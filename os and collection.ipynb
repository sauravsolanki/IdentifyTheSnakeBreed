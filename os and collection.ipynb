{
 "cells": [
  {
   "cell_type": "markdown",
   "metadata": {},
   "source": [
    "# OS"
   ]
  },
  {
   "cell_type": "code",
   "execution_count": 33,
   "metadata": {},
   "outputs": [],
   "source": [
    "import os"
   ]
  },
  {
   "cell_type": "code",
   "execution_count": 34,
   "metadata": {},
   "outputs": [
    {
     "data": {
      "text/plain": [
       "'/home/saurav/Documents/hackerearth/Identify the snake breed'"
      ]
     },
     "execution_count": 34,
     "metadata": {},
     "output_type": "execute_result"
    }
   ],
   "source": [
    "os.getcwd()"
   ]
  },
  {
   "cell_type": "code",
   "execution_count": 3,
   "metadata": {},
   "outputs": [
    {
     "data": {
      "text/plain": [
       "'hello/world'"
      ]
     },
     "execution_count": 3,
     "metadata": {},
     "output_type": "execute_result"
    }
   ],
   "source": [
    "os.path.join(\"hello\",\"world\")"
   ]
  },
  {
   "cell_type": "code",
   "execution_count": 6,
   "metadata": {},
   "outputs": [
    {
     "data": {
      "text/plain": [
       "'/home/saurav/Documents/hackerearth/Identify the snake breed'"
      ]
     },
     "execution_count": 6,
     "metadata": {},
     "output_type": "execute_result"
    }
   ],
   "source": [
    "os.getcwd()"
   ]
  },
  {
   "cell_type": "code",
   "execution_count": 9,
   "metadata": {},
   "outputs": [],
   "source": [
    "os.chdir(os.getcwd())"
   ]
  },
  {
   "cell_type": "code",
   "execution_count": 10,
   "metadata": {},
   "outputs": [
    {
     "data": {
      "text/plain": [
       "'/home/saurav/Documents/hackerearth/Identify the snake breed'"
      ]
     },
     "execution_count": 10,
     "metadata": {},
     "output_type": "execute_result"
    }
   ],
   "source": [
    "os.getcwd()"
   ]
  },
  {
   "cell_type": "code",
   "execution_count": 11,
   "metadata": {},
   "outputs": [
    {
     "name": "stdout",
     "output_type": "stream",
     "text": [
      " 8a95c26e1bab11eb\t   'Identify the Snake Breed.ipynb'   preview\r\n",
      "'EDict and Pathlib.ipynb'   logs\t\t\t      readme.md\r\n",
      " IdentifySnake2.ipynb\t   'os and collection.ipynb'\t      submission\r\n"
     ]
    }
   ],
   "source": [
    "!ls"
   ]
  },
  {
   "cell_type": "code",
   "execution_count": 14,
   "metadata": {},
   "outputs": [
    {
     "ename": "OSError",
     "evalue": "[Errno 39] Directory not empty: './preview'",
     "output_type": "error",
     "traceback": [
      "\u001b[0;31m---------------------------------------------------------------------------\u001b[0m",
      "\u001b[0;31mOSError\u001b[0m                                   Traceback (most recent call last)",
      "\u001b[0;32m<ipython-input-14-08d62d278465>\u001b[0m in \u001b[0;36m<module>\u001b[0;34m\u001b[0m\n\u001b[0;32m----> 1\u001b[0;31m \u001b[0mos\u001b[0m\u001b[0;34m.\u001b[0m\u001b[0mrmdir\u001b[0m\u001b[0;34m(\u001b[0m\u001b[0;34m\"./preview\"\u001b[0m\u001b[0;34m)\u001b[0m\u001b[0;34m\u001b[0m\u001b[0m\n\u001b[0m",
      "\u001b[0;31mOSError\u001b[0m: [Errno 39] Directory not empty: './preview'"
     ]
    }
   ],
   "source": [
    "os.rmdir(\"./preview\")"
   ]
  },
  {
   "cell_type": "code",
   "execution_count": 18,
   "metadata": {},
   "outputs": [],
   "source": [
    "os.mkdir(\"dummy\")"
   ]
  },
  {
   "cell_type": "code",
   "execution_count": 20,
   "metadata": {},
   "outputs": [],
   "source": [
    "os.rmdir(\"dummy\")"
   ]
  },
  {
   "cell_type": "code",
   "execution_count": 21,
   "metadata": {},
   "outputs": [
    {
     "name": "stdout",
     "output_type": "stream",
     "text": [
      " 8a95c26e1bab11eb\t   'Identify the Snake Breed.ipynb'   preview\r\n",
      "'EDict and Pathlib.ipynb'   logs\t\t\t      readme.md\r\n",
      " IdentifySnake2.ipynb\t   'os and collection.ipynb'\t      submission\r\n"
     ]
    }
   ],
   "source": [
    "!ls"
   ]
  },
  {
   "cell_type": "code",
   "execution_count": 22,
   "metadata": {},
   "outputs": [
    {
     "data": {
      "text/plain": [
       "['IdentifySnake2.ipynb',\n",
       " 'preview',\n",
       " 'submission',\n",
       " 'EDict and Pathlib.ipynb',\n",
       " '8a95c26e1bab11eb',\n",
       " 'readme.md',\n",
       " 'logs',\n",
       " '.ipynb_checkpoints',\n",
       " 'os and collection.ipynb',\n",
       " 'Identify the Snake Breed.ipynb']"
      ]
     },
     "execution_count": 22,
     "metadata": {},
     "output_type": "execute_result"
    }
   ],
   "source": [
    "os.listdir()"
   ]
  },
  {
   "cell_type": "code",
   "execution_count": 27,
   "metadata": {},
   "outputs": [
    {
     "name": "stdout",
     "output_type": "stream",
     "text": [
      " 8a95c26e1bab11eb\t\t   logs\t\t\t      preview\r\n",
      "'EDict and Pathlib.ipynb'\t   New1.txt\t\t      readme.md\r\n",
      " IdentifySnake2.ipynb\t\t   New.txt\t\t      submission\r\n",
      "'Identify the Snake Breed.ipynb'  'os and collection.ipynb'\r\n"
     ]
    }
   ],
   "source": [
    "# renaming a file\n",
    "fd = \"GFG.txt\"\n",
    "\n",
    "from pathlib import Path as path\n",
    "p = path.cwd() / fd\n",
    "p.write_text(\"hello saurav\")\n",
    "\n",
    "os.rename(fd,'New1.txt')\n"
   ]
  },
  {
   "cell_type": "code",
   "execution_count": 28,
   "metadata": {},
   "outputs": [
    {
     "name": "stdout",
     "output_type": "stream",
     "text": [
      " 8a95c26e1bab11eb\t\t   logs\t\t\t      readme.md\r\n",
      "'EDict and Pathlib.ipynb'\t   New.txt\t\t      submission\r\n",
      " IdentifySnake2.ipynb\t\t  'os and collection.ipynb'\r\n",
      "'Identify the Snake Breed.ipynb'   preview\r\n"
     ]
    }
   ],
   "source": [
    "os.rename('New1.txt','New.txt')\n",
    "!ls"
   ]
  },
  {
   "cell_type": "code",
   "execution_count": 31,
   "metadata": {},
   "outputs": [],
   "source": [
    "os.remove(\"New.txt\")"
   ]
  },
  {
   "cell_type": "code",
   "execution_count": 32,
   "metadata": {},
   "outputs": [
    {
     "name": "stdout",
     "output_type": "stream",
     "text": [
      " 8a95c26e1bab11eb\t   'Identify the Snake Breed.ipynb'   preview\r\n",
      "'EDict and Pathlib.ipynb'   logs\t\t\t      readme.md\r\n",
      " IdentifySnake2.ipynb\t   'os and collection.ipynb'\t      submission\r\n"
     ]
    }
   ],
   "source": [
    "!ls"
   ]
  },
  {
   "cell_type": "markdown",
   "metadata": {},
   "source": [
    "# Glob"
   ]
  },
  {
   "cell_type": "code",
   "execution_count": 35,
   "metadata": {},
   "outputs": [],
   "source": [
    "import glob"
   ]
  },
  {
   "cell_type": "code",
   "execution_count": 39,
   "metadata": {},
   "outputs": [
    {
     "name": "stdout",
     "output_type": "stream",
     "text": [
      "/home/saurav/Documents/hackerearth/Identify the snake breed/preview/cat_0_6192.jpeg\n",
      "/home/saurav/Documents/hackerearth/Identify the snake breed/preview/cat_0_8037.jpeg\n",
      "/home/saurav/Documents/hackerearth/Identify the snake breed/preview/cat_0_6932.jpeg\n",
      "/home/saurav/Documents/hackerearth/Identify the snake breed/preview/cat_0_4914.jpeg\n",
      "/home/saurav/Documents/hackerearth/Identify the snake breed/preview/cat_0_6547.jpeg\n",
      "/home/saurav/Documents/hackerearth/Identify the snake breed/preview/cat_0_3037.jpeg\n",
      "/home/saurav/Documents/hackerearth/Identify the snake breed/preview/cat_0_7849.jpeg\n",
      "/home/saurav/Documents/hackerearth/Identify the snake breed/preview/cat_0_9777.jpeg\n",
      "/home/saurav/Documents/hackerearth/Identify the snake breed/preview/cat_0_7679.jpeg\n",
      "/home/saurav/Documents/hackerearth/Identify the snake breed/preview/cat_0_9521.jpeg\n",
      "/home/saurav/Documents/hackerearth/Identify the snake breed/preview/cat_0_5568.jpeg\n",
      "/home/saurav/Documents/hackerearth/Identify the snake breed/preview/cat_0_404.jpeg\n",
      "/home/saurav/Documents/hackerearth/Identify the snake breed/preview/cat_0_5950.jpeg\n",
      "/home/saurav/Documents/hackerearth/Identify the snake breed/preview/cat_0_5456.jpeg\n",
      "/home/saurav/Documents/hackerearth/Identify the snake breed/preview/cat_0_5927.jpeg\n",
      "/home/saurav/Documents/hackerearth/Identify the snake breed/preview/cat_0_4577.jpeg\n",
      "/home/saurav/Documents/hackerearth/Identify the snake breed/preview/cat_0_88.jpeg\n",
      "/home/saurav/Documents/hackerearth/Identify the snake breed/preview/cat_0_2739.jpeg\n",
      "/home/saurav/Documents/hackerearth/Identify the snake breed/preview/cat_0_7685.jpeg\n",
      "/home/saurav/Documents/hackerearth/Identify the snake breed/preview/cat_0_2940.jpeg\n",
      "/home/saurav/Documents/hackerearth/Identify the snake breed/preview/cat_0_547.jpeg\n",
      "/home/saurav/Documents/hackerearth/Identify the snake breed/preview/cat_0_8756.jpeg\n",
      "/home/saurav/Documents/hackerearth/Identify the snake breed/preview/cat_0_7504.jpeg\n",
      "/home/saurav/Documents/hackerearth/Identify the snake breed/preview/cat_0_1921.jpeg\n",
      "/home/saurav/Documents/hackerearth/Identify the snake breed/preview/cat_0_5605.jpeg\n",
      "/home/saurav/Documents/hackerearth/Identify the snake breed/preview/cat_0_9464.jpeg\n",
      "/home/saurav/Documents/hackerearth/Identify the snake breed/preview/cat_0_9613.jpeg\n",
      "/home/saurav/Documents/hackerearth/Identify the snake breed/preview/cat_0_9386.jpeg\n",
      "/home/saurav/Documents/hackerearth/Identify the snake breed/preview/cat_0_3827.jpeg\n",
      "/home/saurav/Documents/hackerearth/Identify the snake breed/preview/cat_0_5794.jpeg\n",
      "/home/saurav/Documents/hackerearth/Identify the snake breed/preview/cat_0_3753.jpeg\n",
      "/home/saurav/Documents/hackerearth/Identify the snake breed/preview/cat_0_7429.jpeg\n",
      "/home/saurav/Documents/hackerearth/Identify the snake breed/preview/cat_0_9499.jpeg\n",
      "/home/saurav/Documents/hackerearth/Identify the snake breed/preview/cat_0_8009.jpeg\n",
      "/home/saurav/Documents/hackerearth/Identify the snake breed/preview/cat_0_2479.jpeg\n",
      "/home/saurav/Documents/hackerearth/Identify the snake breed/preview/cat_0_3247.jpeg\n",
      "/home/saurav/Documents/hackerearth/Identify the snake breed/preview/cat_0_8713.jpeg\n",
      "/home/saurav/Documents/hackerearth/Identify the snake breed/preview/cat_0_4582.jpeg\n",
      "/home/saurav/Documents/hackerearth/Identify the snake breed/preview/cat_0_6648.jpeg\n",
      "/home/saurav/Documents/hackerearth/Identify the snake breed/preview/cat_0_2954.jpeg\n",
      "/home/saurav/Documents/hackerearth/Identify the snake breed/preview/cat_0_406.jpeg\n",
      "/home/saurav/Documents/hackerearth/Identify the snake breed/preview/cat_0_989.jpeg\n",
      "/home/saurav/Documents/hackerearth/Identify the snake breed/submission/Mon Nov 30 13_23_47 2020.csv\n",
      "/home/saurav/Documents/hackerearth/Identify the snake breed/submission/Mon Nov 30 14:25:07 2020.csv\n",
      "/home/saurav/Documents/hackerearth/Identify the snake breed/submission/Mon Nov 30 13:42:42 2020.csv\n",
      "/home/saurav/Documents/hackerearth/Identify the snake breed/submission/Mon Nov 30 13_19_07 2020.csv\n",
      "/home/saurav/Documents/hackerearth/Identify the snake breed/submission/Mon Nov 30 19_41_48 2020.csv\n",
      "/home/saurav/Documents/hackerearth/Identify the snake breed/submission/Mon Nov 30 12_08_26 2020.csv\n",
      "/home/saurav/Documents/hackerearth/Identify the snake breed/submission/Mon Nov 30 13_29_09 2020.csv\n",
      "/home/saurav/Documents/hackerearth/Identify the snake breed/submission/Mon Nov 30 12_05_37 2020.csv\n",
      "/home/saurav/Documents/hackerearth/Identify the snake breed/submission/Mon Nov 30 13_02_21 2020.csv\n",
      "/home/saurav/Documents/hackerearth/Identify the snake breed/submission/Mon Nov 30 14:11:40 2020.csv\n",
      "/home/saurav/Documents/hackerearth/Identify the snake breed/submission/Mon Nov 30 14_07_26 2020.csv\n",
      "/home/saurav/Documents/hackerearth/Identify the snake breed/submission/Mon Nov 30 09_37_18 2020.csv\n",
      "/home/saurav/Documents/hackerearth/Identify the snake breed/submission/Mon Nov 30 14_05_42 2020.csv\n",
      "/home/saurav/Documents/hackerearth/Identify the snake breed/8a95c26e1bab11eb/tfData\n",
      "/home/saurav/Documents/hackerearth/Identify the snake breed/8a95c26e1bab11eb/dataset\n",
      "/home/saurav/Documents/hackerearth/Identify the snake breed/logs/fit\n"
     ]
    }
   ],
   "source": [
    "# get the directory and file uptio level i 1\n",
    "for filename in glob.glob(os.getcwd() +\"/**/*\"):\n",
    "    print(filename)"
   ]
  },
  {
   "cell_type": "markdown",
   "metadata": {},
   "source": [
    "# Datetime\n",
    "\n",
    "https://www.geeksforgeeks.org/python-datetime-module-with-examples/?ref=rp\n",
    "\n",
    "\n",
    "1. date – An idealized naive date, assuming the current Gregorian calendar always was, and always will be, in effect. Its attributes are year, month and day.\n",
    "2. time – An idealized time, independent of any particular day, assuming that every day has exactly 24*60*60 seconds. Its attributes are hour, minute, second, microsecond, and tzinfo.\n",
    "3. datetime – Its a combination of date and time along with the attributes year, month, day, hour, minute, second, microsecond, and tzinfo.\n",
    "4. timedelta – A duration expressing the difference between two date, time, or datetime instances to microsecond resolution.\n",
    "5. tzinfo – It provides time zone information objects.\n",
    "6. timezone – A class that implements the tzinfo abstract base class as a fixed offset from the UTC (New in version 3.2).\n"
   ]
  },
  {
   "cell_type": "code",
   "execution_count": 15,
   "metadata": {},
   "outputs": [],
   "source": [
    "import datetime"
   ]
  },
  {
   "cell_type": "code",
   "execution_count": 16,
   "metadata": {},
   "outputs": [
    {
     "data": {
      "text/plain": [
       "datetime.date(2020, 12, 1)"
      ]
     },
     "execution_count": 16,
     "metadata": {},
     "output_type": "execute_result"
    }
   ],
   "source": [
    "datetime.date(2020,12,1)"
   ]
  },
  {
   "cell_type": "code",
   "execution_count": 17,
   "metadata": {},
   "outputs": [
    {
     "data": {
      "text/plain": [
       "datetime.date(2020, 12, 1)"
      ]
     },
     "execution_count": 17,
     "metadata": {},
     "output_type": "execute_result"
    }
   ],
   "source": [
    "datetime.date.today()"
   ]
  },
  {
   "cell_type": "code",
   "execution_count": 18,
   "metadata": {},
   "outputs": [],
   "source": [
    "from datetime import date, time,datetime"
   ]
  },
  {
   "cell_type": "code",
   "execution_count": 19,
   "metadata": {},
   "outputs": [
    {
     "data": {
      "text/plain": [
       "datetime.time(0, 0)"
      ]
     },
     "execution_count": 19,
     "metadata": {},
     "output_type": "execute_result"
    }
   ],
   "source": [
    "time()"
   ]
  },
  {
   "cell_type": "code",
   "execution_count": 20,
   "metadata": {},
   "outputs": [
    {
     "ename": "TypeError",
     "evalue": "Required argument 'year' (pos 1) not found",
     "output_type": "error",
     "traceback": [
      "\u001b[0;31m---------------------------------------------------------------------------\u001b[0m",
      "\u001b[0;31mTypeError\u001b[0m                                 Traceback (most recent call last)",
      "\u001b[0;32m<ipython-input-20-801a44dc1668>\u001b[0m in \u001b[0;36m<module>\u001b[0;34m\u001b[0m\n\u001b[0;32m----> 1\u001b[0;31m \u001b[0mdate\u001b[0m\u001b[0;34m(\u001b[0m\u001b[0;34m)\u001b[0m\u001b[0;34m\u001b[0m\u001b[0m\n\u001b[0m",
      "\u001b[0;31mTypeError\u001b[0m: Required argument 'year' (pos 1) not found"
     ]
    }
   ],
   "source": [
    "date()"
   ]
  },
  {
   "cell_type": "code",
   "execution_count": 21,
   "metadata": {},
   "outputs": [
    {
     "ename": "TypeError",
     "evalue": "Required argument 'year' (pos 1) not found",
     "output_type": "error",
     "traceback": [
      "\u001b[0;31m---------------------------------------------------------------------------\u001b[0m",
      "\u001b[0;31mTypeError\u001b[0m                                 Traceback (most recent call last)",
      "\u001b[0;32m<ipython-input-21-a1a072f2807b>\u001b[0m in \u001b[0;36m<module>\u001b[0;34m\u001b[0m\n\u001b[0;32m----> 1\u001b[0;31m \u001b[0mdatetime\u001b[0m\u001b[0;34m(\u001b[0m\u001b[0;34m)\u001b[0m\u001b[0;34m\u001b[0m\u001b[0m\n\u001b[0m",
      "\u001b[0;31mTypeError\u001b[0m: Required argument 'year' (pos 1) not found"
     ]
    }
   ],
   "source": [
    "datetime()"
   ]
  },
  {
   "cell_type": "code",
   "execution_count": 22,
   "metadata": {},
   "outputs": [
    {
     "data": {
      "text/plain": [
       "datetime.date"
      ]
     },
     "execution_count": 22,
     "metadata": {},
     "output_type": "execute_result"
    }
   ],
   "source": [
    "date"
   ]
  },
  {
   "cell_type": "code",
   "execution_count": 25,
   "metadata": {},
   "outputs": [
    {
     "name": "stdout",
     "output_type": "stream",
     "text": [
      "2020-12-30\n",
      "2020\n",
      "12\n",
      "30\n"
     ]
    }
   ],
   "source": [
    "d = date(2020,12,30)\n",
    "print(d)\n",
    "print(d.year)\n",
    "print(d.month)\n",
    "print(d.day)"
   ]
  },
  {
   "cell_type": "code",
   "execution_count": 26,
   "metadata": {},
   "outputs": [
    {
     "data": {
      "text/plain": [
       "datetime.date(2020, 12, 1)"
      ]
     },
     "execution_count": 26,
     "metadata": {},
     "output_type": "execute_result"
    }
   ],
   "source": [
    "date.today()"
   ]
  },
  {
   "cell_type": "code",
   "execution_count": 27,
   "metadata": {},
   "outputs": [],
   "source": [
    "# time\n",
    "# class datetime.time(hour=0, minute=0, second=0, microsecond=0, tzinfo=None, *, fold=0)"
   ]
  },
  {
   "cell_type": "code",
   "execution_count": 29,
   "metadata": {},
   "outputs": [
    {
     "data": {
      "text/plain": [
       "datetime.time(10, 12, 2)"
      ]
     },
     "execution_count": 29,
     "metadata": {},
     "output_type": "execute_result"
    }
   ],
   "source": [
    "time(10,12,2)"
   ]
  },
  {
   "cell_type": "code",
   "execution_count": 30,
   "metadata": {},
   "outputs": [],
   "source": [
    "t = time(10,22,3)"
   ]
  },
  {
   "cell_type": "code",
   "execution_count": 31,
   "metadata": {},
   "outputs": [
    {
     "data": {
      "text/plain": [
       "10"
      ]
     },
     "execution_count": 31,
     "metadata": {},
     "output_type": "execute_result"
    }
   ],
   "source": [
    "t.hour"
   ]
  },
  {
   "cell_type": "code",
   "execution_count": 32,
   "metadata": {},
   "outputs": [
    {
     "data": {
      "text/plain": [
       "22"
      ]
     },
     "execution_count": 32,
     "metadata": {},
     "output_type": "execute_result"
    }
   ],
   "source": [
    "t.minute"
   ]
  },
  {
   "cell_type": "code",
   "execution_count": 34,
   "metadata": {},
   "outputs": [
    {
     "data": {
      "text/plain": [
       "3"
      ]
     },
     "execution_count": 34,
     "metadata": {},
     "output_type": "execute_result"
    }
   ],
   "source": [
    "t.second"
   ]
  },
  {
   "cell_type": "code",
   "execution_count": 35,
   "metadata": {},
   "outputs": [
    {
     "data": {
      "text/plain": [
       "0"
      ]
     },
     "execution_count": 35,
     "metadata": {},
     "output_type": "execute_result"
    }
   ],
   "source": [
    "t.microsecond"
   ]
  },
  {
   "cell_type": "markdown",
   "metadata": {},
   "source": [
    "<code> class datetime.datetime(year, month, day, hour=0, minute=0, second=0, microsecond=0, tzinfo=None, *, fold=0) </code>\n",
    "\n",
    "<pre>\n",
    "The year, month and day arguments are mandatory. tzinfo can be None, rest all the attributes must be an integer in the following range –\n",
    "\n",
    "MINYEAR <= year <= MAXYEAR\n",
    "1 <= month <= 12\n",
    "1 <= day <= number of days in the given month and year\n",
    "0 <= hour < 24\n",
    "0 <= minute < 60\n",
    "0 <= second < 60\n",
    "0 <= microsecond < 1000000\n",
    "fold in [0, 1]\n",
    "</pre>"
   ]
  },
  {
   "cell_type": "code",
   "execution_count": 36,
   "metadata": {},
   "outputs": [],
   "source": [
    "a = datetime(1999, 12, 12, 12, 12, 12) "
   ]
  },
  {
   "cell_type": "code",
   "execution_count": 37,
   "metadata": {},
   "outputs": [
    {
     "data": {
      "text/plain": [
       "datetime.datetime(1999, 12, 12, 12, 12, 12)"
      ]
     },
     "execution_count": 37,
     "metadata": {},
     "output_type": "execute_result"
    }
   ],
   "source": [
    "a"
   ]
  },
  {
   "cell_type": "code",
   "execution_count": 39,
   "metadata": {},
   "outputs": [
    {
     "data": {
      "text/plain": [
       "datetime.datetime(2020, 12, 1, 13, 17, 23, 465175)"
      ]
     },
     "execution_count": 39,
     "metadata": {},
     "output_type": "execute_result"
    }
   ],
   "source": [
    "datetime.now()"
   ]
  },
  {
   "cell_type": "markdown",
   "metadata": {},
   "source": [
    "<code>\n",
    "class datetime.timedelta(days=0, seconds=0, microseconds=0, milliseconds=0, minutes=0, hours=0, weeks=0)\n",
    "\n",
    "Returns : Date\n",
    "<code>"
   ]
  },
  {
   "cell_type": "code",
   "execution_count": 40,
   "metadata": {},
   "outputs": [],
   "source": [
    "from datetime import timedelta"
   ]
  },
  {
   "cell_type": "code",
   "execution_count": 45,
   "metadata": {},
   "outputs": [
    {
     "data": {
      "text/plain": [
       "datetime.datetime(2022, 11, 27, 13, 19, 28, 227468)"
      ]
     },
     "execution_count": 45,
     "metadata": {},
     "output_type": "execute_result"
    }
   ],
   "source": [
    "datetime.now() + timedelta(days=363*2)"
   ]
  },
  {
   "cell_type": "code",
   "execution_count": 46,
   "metadata": {},
   "outputs": [],
   "source": [
    "# tzinfo\n",
    "# to be explored when needed"
   ]
  },
  {
   "cell_type": "markdown",
   "metadata": {},
   "source": [
    "# PIL Image"
   ]
  },
  {
   "cell_type": "code",
   "execution_count": 52,
   "metadata": {},
   "outputs": [],
   "source": [
    "import glob\n",
    "from PIL import Image\n",
    "for imageFileName in glob.glob(\"*.jpg\"):\n",
    "    Image.open(imageFileName).show()"
   ]
  },
  {
   "cell_type": "code",
   "execution_count": 54,
   "metadata": {},
   "outputs": [
    {
     "data": {
      "image/png": "[encoded data removed]",
      "text/plain": [
       "<PIL.JpegImagePlugin.JpegImageFile image mode=RGB size=128x96 at 0x7F713E283DD8>"
      ]
     },
     "execution_count": 54,
     "metadata": {},
     "output_type": "execute_result"
    }
   ],
   "source": [
    "#00a6c209eb.jpg\n",
    "Image.open(\"00a6c209eb.jpg\")"
   ]
  },
  {
   "cell_type": "code",
   "execution_count": 55,
   "metadata": {},
   "outputs": [
    {
     "data": {
      "image/png": "[encoded data removed]",
      "text/plain": [
       "<PIL.Image.Image image mode=RGB size=128x96 at 0x7F713E28E9B0>"
      ]
     },
     "execution_count": 55,
     "metadata": {},
     "output_type": "execute_result"
    }
   ],
   "source": [
    "Image.open(\"00a6c209eb.jpg\").rotate(45)"
   ]
  },
  {
   "cell_type": "code",
   "execution_count": 68,
   "metadata": {},
   "outputs": [
    {
     "name": "stdout",
     "output_type": "stream",
     "text": [
      "(128, 128)\n",
      "<class 'tuple'>\n",
      "00a6c209eb .jpg\n",
      "(96, 128, 3)\n",
      "0cd3419120 .jpg\n",
      "(96, 128, 3)\n",
      "0bb524dbb5 .jpg\n",
      "(171, 128, 3)\n"
     ]
    }
   ],
   "source": [
    "import os\n",
    "import numpy as np\n",
    "\n",
    "SIZE = 128,128\n",
    "print(SIZE)\n",
    "print(type(SIZE))\n",
    "\n",
    "\n",
    "for imageFileName in glob.glob(\"*.jpg\"):\n",
    "    \n",
    "    file,ext = os.path.splitext(imageFileName)\n",
    "    print(file,ext) # 00a6c209eb .jpg\n",
    "    \n",
    "    # open image in PIL Image mode\n",
    "    img = Image.open(imageFileName)\n",
    "    #print(img.shape) # AttributeError: 'JpegImageFile' object has no attribute 'shape'\n",
    "    \n",
    "    # show image shape\n",
    "    print(np.array(img).shape) # (96, 128, 3)\n",
    "    \n",
    "    # resize the image\n",
    "    img.thumbnail(SIZE) # 128,128,3\n",
    "    \n",
    "    # save the image\n",
    "    img.save(file+\".thumbnail\",\"JPEG\")\n",
    "    \n",
    "    del img\n"
   ]
  },
  {
   "cell_type": "code",
   "execution_count": 73,
   "metadata": {},
   "outputs": [
    {
     "name": "stdout",
     "output_type": "stream",
     "text": [
      "(96, 128, 3)\n"
     ]
    },
    {
     "data": {
      "image/png": "[encoded data removed]",
      "text/plain": [
       "<PIL.Image.Image image mode=RGB size=128x96 at 0x7F711C42A6D8>"
      ]
     },
     "execution_count": 73,
     "metadata": {},
     "output_type": "execute_result"
    }
   ],
   "source": [
    "# load the image in img\n",
    "img  = Image.open(\"00a6c209eb.jpg\")\n",
    "img\n",
    "\n",
    "# PIL to numpy\n",
    "img_np = np.asarray(img)\n",
    "print(img_np.shape)\n",
    "\n",
    "# numpy to PIL\n",
    "pil_img_from_np = Image.fromarray(img_np)\n",
    "pil_img_from_np"
   ]
  },
  {
   "cell_type": "code",
   "execution_count": 76,
   "metadata": {},
   "outputs": [
    {
     "data": {
      "image/png": "[encoded data removed]",
      "text/plain": [
       "<PIL.Image.Image image mode=RGB size=128x96 at 0x7F711C42A780>"
      ]
     },
     "execution_count": 76,
     "metadata": {},
     "output_type": "execute_result"
    }
   ],
   "source": []
  },
  {
   "cell_type": "markdown",
   "metadata": {},
   "source": [
    "# Subprocess"
   ]
  },
  {
   "cell_type": "code",
   "execution_count": 77,
   "metadata": {},
   "outputs": [],
   "source": [
    "import subprocess"
   ]
  },
  {
   "cell_type": "code",
   "execution_count": 81,
   "metadata": {},
   "outputs": [],
   "source": [
    "data = subprocess.Popen(['ls', '-l'], stdout = subprocess.PIPE)\n",
    "\n",
    "output = data.communicate()"
   ]
  },
  {
   "cell_type": "code",
   "execution_count": 84,
   "metadata": {},
   "outputs": [
    {
     "data": {
      "text/plain": [
       "(b'total 476\\n-rw-r--r-- 1 saurav saurav  11014 Nov 30 11:41 00a6c209eb.jpg\\n-rw-rw-r-- 1 saurav saurav   3851 Dec  1 13:46 00a6c209ebthumbnail\\n-rw-rw-r-- 1 saurav saurav   3851 Dec  1 14:32 00a6c209eb.thumbnail\\n-rw-r--r-- 1 saurav saurav   9181 Nov 30 11:41 0bb524dbb5.jpg\\n-rw-rw-r-- 1 saurav saurav   3808 Dec  1 13:46 0bb524dbb5thumbnail\\n-rw-rw-r-- 1 saurav saurav   3808 Dec  1 14:32 0bb524dbb5.thumbnail\\n-rw-r--r-- 1 saurav saurav   6083 Nov 30 11:41 0cd3419120.jpg\\n-rw-rw-r-- 1 saurav saurav   3998 Dec  1 13:46 0cd3419120thumbnail\\n-rw-rw-r-- 1 saurav saurav   3998 Dec  1 14:32 0cd3419120.thumbnail\\ndrwxrwxr-x 4 saurav saurav   4096 Nov 29 17:38 8a95c26e1bab11eb\\n-rw-rw-r-- 1 saurav saurav  18157 Dec  1 00:54 EDict and Pathlib.ipynb\\n-rw-rw-r-- 1 saurav saurav  98240 Nov 30 14:25 IdentifySnake2.ipynb\\n-rw-rw-r-- 1 saurav saurav 133826 Nov 30 14:34 Identify the Snake Breed.ipynb\\ndrwxr-xr-x 3 saurav saurav   4096 Nov 30 12:43 logs\\n-rw-rw-r-- 1 saurav saurav 153429 Dec  1 14:38 os and collection.ipynb\\ndrwxrwxr-x 2 saurav saurav   4096 Nov 30 11:58 preview\\n-rw-rw-r-- 1 saurav saurav     12 Dec  1 00:29 readme.md\\ndrwxrwxr-x 2 saurav saurav   4096 Dec  1 01:12 submission\\n',\n",
       " None)"
      ]
     },
     "execution_count": 84,
     "metadata": {},
     "output_type": "execute_result"
    }
   ],
   "source": [
    "output"
   ]
  },
  {
   "cell_type": "code",
   "execution_count": null,
   "metadata": {},
   "outputs": [],
   "source": []
  }
 ],
 "metadata": {
  "kernelspec": {
   "display_name": "Python 3",
   "language": "python",
   "name": "python3"
  },
  "language_info": {
   "codemirror_mode": {
    "name": "ipython",
    "version": 3
   },
   "file_extension": ".py",
   "mimetype": "text/x-python",
   "name": "python",
   "nbconvert_exporter": "python",
   "pygments_lexer": "ipython3",
   "version": "3.5.6"
  }
 },
 "nbformat": 4,
 "nbformat_minor": 4
}
