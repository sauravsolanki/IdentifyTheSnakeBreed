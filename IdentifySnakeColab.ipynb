{
  "nbformat": 4,
  "nbformat_minor": 0,
  "metadata": {
    "accelerator": "GPU",
    "colab": {
      "name": "IdentifySnakeColab.ipynb",
      "provenance": [],
      "toc_visible": true,
      "include_colab_link": true
    },
    "kernelspec": {
      "display_name": "Python 3",
      "language": "python",
      "name": "python3"
    },
    "language_info": {
      "codemirror_mode": {
        "name": "ipython",
        "version": 3
      },
      "file_extension": ".py",
      "mimetype": "text/x-python",
      "name": "python",
      "nbconvert_exporter": "python",
      "pygments_lexer": "ipython3",
      "version": "3.5.6"
    }
  },
  "cells": [
    {
      "cell_type": "markdown",
      "metadata": {
        "id": "view-in-github",
        "colab_type": "text"
      },
      "source": [
        "<a href=\"https://colab.research.google.com/github/sauravsolanki/IdentifyTheSnakeBreed/blob/main/IdentifySnakeColab.ipynb\" target=\"_parent\"><img src=\"https://colab.research.google.com/assets/colab-badge.svg\" alt=\"Open In Colab\"/></a>"
      ]
    },
    {
      "cell_type": "markdown",
      "metadata": {
        "id": "B1Wo1kDDXQ3h"
      },
      "source": [
        "## Identify the snake breed\n",
        "Max. score: 100\n",
        "#### Problem statement\n",
        "The government has been facing a long-standing issue of wild animals entering residential areas due to various reasons. It's of critical importance that if any such dangerous animal is encountered, the concerned authority should be notified immediately. Reptiles, especially snakes, are among the most dangerous animals and they often enter residential areas. \n",
        "\n",
        "Recently due to an incident of a youngster getting bitten by a snake, the government decided to install cameras at every corner of the road to detect snakes and other animals.\n",
        "\n",
        "You have been hired as a Deep Learning engineer to create a sophisticated model that can detect the breed of a snake from its image.\n",
        "\n",
        "#### Data description\n",
        "This data set consists of the following two columns:\n",
        "\n",
        "#### Column Name\tDescription\n",
        "image_id\tName of the image file\n",
        "breed\tSnake breed [35 different breeds]\n",
        "The data folder consists of two folders and two .csv files. The details are as follows:\n",
        "\n",
        "train: Contains 5508 images for 35 classes \n",
        "test: Contains 2361 images\n",
        "train.csv: 5508 x 2\n",
        "test.csv: 2361 x 1\n",
        "Submission format\n",
        "You are required to write your predictions in a .csv file and upload it by clicking the Upload File button.\n",
        "\n",
        "#### Sample submission\n",
        "\n",
        "image_id,breed\n",
        "a8b3ad1dde,nerodia-erythrogaster\n",
        "8b492b973d,pantherophis-vulpinus\n",
        "929b99ea92,thamnophis-sirtalis\n",
        "bbac7385e2,pantherophis-obsoletus\n",
        "ef776b1488,agkistrodon-contortrix\n",
        "Evaluation metric\n",
        "\n",
        "####  Note: To avoid any discrepancies in the scoring, ensure that all the index column (image_id) values in the submitted file match the values in the provided test.csv file."
      ]
    },
    {
      "cell_type": "code",
      "metadata": {
        "id": "OIaeOzRXXQ3h"
      },
      "source": [
        "import os\n",
        "os.environ['TF_CPP_MIN_LOG_LEVEL'] = '3' \n",
        "\n",
        "# 0 = all messages are logged (default behavior)\n",
        "# 1 = INFO messages are not printed\n",
        "# 2 = INFO and WARNING messages are not printed\n",
        "# 3 = INFO, WARNING, and ERROR messages are not printed"
      ],
      "execution_count": null,
      "outputs": []
    },
    {
      "cell_type": "code",
      "metadata": {
        "colab": {
          "base_uri": "https://localhost:8080/"
        },
        "id": "iLz2y4NxXQ3h",
        "outputId": "c48c577d-b618-4b03-814e-0b7bcc4b72ad"
      },
      "source": [
        "from __future__ import print_function, division\n",
        "import os\n",
        "import torch\n",
        "import pandas as pd\n",
        "import numpy as np\n",
        "import matplotlib.pyplot as plt\n",
        "import tensorflow as tf\n",
        "\n",
        "\n",
        "tf.compat.v1.logging.set_verbosity(tf.compat.v1.logging.ERROR)  # or any {DEBUG, INFO, WARN, ERROR, FATAL}\n",
        "\n",
        "# google colab\n",
        "from google.colab import files,drive\n",
        "# mounting google drive\n",
        "drive.mount(\"/drive\",force_remount=True)"
      ],
      "execution_count": null,
      "outputs": [
        {
          "output_type": "stream",
          "text": [
            "Go to this URL in a browser: https://accounts.google.com/o/oauth2/auth?client_id=947318989803-6bn6qk8qdgf4n4g3pfee6491hc0brc4i.apps.googleusercontent.com&redirect_uri=urn%3aietf%3awg%3aoauth%3a2.0%3aoob&scope=email%20https%3a%2f%2fwww.googleapis.com%2fauth%2fdocs.test%20https%3a%2f%2fwww.googleapis.com%2fauth%2fdrive%20https%3a%2f%2fwww.googleapis.com%2fauth%2fdrive.photos.readonly%20https%3a%2f%2fwww.googleapis.com%2fauth%2fpeopleapi.readonly%20https%3a%2f%2fwww.googleapis.com%2fauth%2fdrive.activity.readonly&response_type=code\n",
            "\n",
            "Enter your authorization code:\n",
            "4/1AY0e-g6VeqKJVbsnivhwbYQdtd-P50RoxZP6FeL9jC_GAuTnsCrn7Lti-SE\n"
          ],
          "name": "stdout"
        }
      ]
    },
    {
      "cell_type": "code",
      "metadata": {
        "colab": {
          "background_save": true
        },
        "id": "UJxDeQ1Zw-z-",
        "outputId": "6cbf1e54-4cd2-4811-b493-250d50073fce"
      },
      "source": [
        "# please make sure your are using hardware properly\n",
        "from tensorflow.python.client import device_lib\n",
        "print(device_lib.list_local_devices())"
      ],
      "execution_count": null,
      "outputs": [
        {
          "output_type": "stream",
          "text": [
            "[name: \"/device:CPU:0\"\n",
            "device_type: \"CPU\"\n",
            "memory_limit: 268435456\n",
            "locality {\n",
            "}\n",
            "incarnation: 728753618297772233\n",
            ", name: \"/device:XLA_CPU:0\"\n",
            "device_type: \"XLA_CPU\"\n",
            "memory_limit: 17179869184\n",
            "locality {\n",
            "}\n",
            "incarnation: 2357731314516530455\n",
            "physical_device_desc: \"device: XLA_CPU device\"\n",
            ", name: \"/device:XLA_GPU:0\"\n",
            "device_type: \"XLA_GPU\"\n",
            "memory_limit: 17179869184\n",
            "locality {\n",
            "}\n",
            "incarnation: 642796568674749520\n",
            "physical_device_desc: \"device: XLA_GPU device\"\n",
            ", name: \"/device:GPU:0\"\n",
            "device_type: \"GPU\"\n",
            "memory_limit: 13816878848\n",
            "locality {\n",
            "  bus_id: 1\n",
            "  links {\n",
            "  }\n",
            "}\n",
            "incarnation: 768031544484938980\n",
            "physical_device_desc: \"device: 0, name: Tesla T4, pci bus id: 0000:00:04.0, compute capability: 7.5\"\n",
            "]\n"
          ],
          "name": "stdout"
        }
      ]
    },
    {
      "cell_type": "code",
      "metadata": {
        "colab": {
          "background_save": true
        },
        "id": "Xu8aCsy0eoW_"
      },
      "source": [
        "root = \"/drive/MyDrive/data/HackerEarth/SnakeBreed/\""
      ],
      "execution_count": null,
      "outputs": []
    },
    {
      "cell_type": "code",
      "metadata": {
        "colab": {
          "background_save": true
        },
        "id": "J7qQIY_KXQ3h"
      },
      "source": [
        "# Load the TensorBoard notebook extension\n",
        "%load_ext tensorboard"
      ],
      "execution_count": null,
      "outputs": []
    },
    {
      "cell_type": "code",
      "metadata": {
        "colab": {
          "background_save": true
        },
        "id": "AcRVKGX-XQ3h"
      },
      "source": [
        "import datetime\n",
        "# for tensorboard\n",
        "log_dir = root + \"logs/fit/\" + datetime.datetime.now().strftime(\"%Y%m%d-%H%M%S\")\n",
        "tensorboard_callback = tf.keras.callbacks.TensorBoard(log_dir=log_dir, histogram_freq=1)\n"
      ],
      "execution_count": null,
      "outputs": []
    },
    {
      "cell_type": "code",
      "metadata": {
        "colab": {
          "background_save": true
        },
        "id": "h3guaM3FXQ3h"
      },
      "source": [
        "# bash sciprt to kill any tensorboard instances\n",
        "# !ps -ef | grep \"/home/saurav/anaconda3/envs/datascience/bin/tensorboard --logdir logs/fit\" | \n",
        "\n",
        "# tensorboard customisation to sort the logs in time"
      ],
      "execution_count": null,
      "outputs": []
    },
    {
      "cell_type": "code",
      "metadata": {
        "colab": {
          "background_save": true
        },
        "id": "wxsd6DxTXQ3h",
        "outputId": "339c662f-f13a-49f6-8632-47d124baa9cb"
      },
      "source": [
        "%tensorboard --logdir \"/drive/MyDrive/data/HackerEarth/SnakeBreed/logs\""
      ],
      "execution_count": null,
      "outputs": [
        {
          "output_type": "display_data",
          "data": {
            "application/javascript": [
              "\n",
              "        (async () => {\n",
              "            const url = await google.colab.kernel.proxyPort(6006, {\"cache\": true});\n",
              "            const iframe = document.createElement('iframe');\n",
              "            iframe.src = url;\n",
              "            iframe.setAttribute('width', '100%');\n",
              "            iframe.setAttribute('height', '800');\n",
              "            iframe.setAttribute('frameborder', 0);\n",
              "            document.body.appendChild(iframe);\n",
              "        })();\n",
              "    "
            ],
            "text/plain": [
              "<IPython.core.display.Javascript object>"
            ]
          },
          "metadata": {
            "tags": []
          }
        }
      ]
    },
    {
      "cell_type": "code",
      "metadata": {
        "colab": {
          "background_save": true
        },
        "id": "u7IQ9GNlxA5r"
      },
      "source": [
        ""
      ],
      "execution_count": null,
      "outputs": []
    },
    {
      "cell_type": "markdown",
      "metadata": {
        "id": "3xvOcBYzxDY2"
      },
      "source": [
        "Custom Callbacks"
      ]
    },
    {
      "cell_type": "code",
      "metadata": {
        "colab": {
          "background_save": true
        },
        "id": "pbKRNIVuxGJ4"
      },
      "source": [
        "import time\n",
        "class CustomCallback(tf.keras.callbacks.Callback):\n",
        "  def on_train_begin(self, logs=None):\n",
        "    print(\"Preparing for catching best Model .......\")\n",
        "    self.best_val = 10000000\n",
        "    self.best_model_name = \"best_model\"\n",
        "\n",
        "  def on_epoch_end(self, epoch, logs=None):\n",
        "    # keys = list(logs.keys())\n",
        "    # print(\"End epoch {} of training; got log keys: {}\".format(epoch, keys))\n",
        "    if logs[\"val_accuracy\"] < self.best_val:\n",
        "      print(\"\\n@Epoch=%d: Saving Model .... \"%(epoch))\n",
        "      self.best_val = logs[\"val_accuracy\"]\n",
        "      self.model.save(root +'models/best_model.h5')\n"
      ],
      "execution_count": null,
      "outputs": []
    },
    {
      "cell_type": "markdown",
      "metadata": {
        "id": "hyYX5BxuXQ3i"
      },
      "source": [
        "Dataset"
      ]
    },
    {
      "cell_type": "code",
      "metadata": {
        "colab": {
          "base_uri": "https://localhost:8080/"
        },
        "id": "Ksau1o-8XQ3i",
        "outputId": "ece7cdea-cbb5-4751-80cc-530677fcd423"
      },
      "source": [
        "data_dir = root + \"/tfData/train\"\n",
        "batch_size = 16\n",
        "img_height = 224\n",
        "img_width= 224\n",
        "num_classes = 35\n",
        "\n",
        "# finetuning\n",
        "# Create the base model from the pre-trained model MobileNet V2\n",
        "\n",
        "IMG_SIZE = (img_width, img_height)\n",
        "\n",
        "\n",
        "train_ds = tf.keras.preprocessing.image_dataset_from_directory(\n",
        "  data_dir,\n",
        "  validation_split=0.2,\n",
        "  subset=\"training\",\n",
        "  seed=123,\n",
        "  image_size=IMG_SIZE,\n",
        "  batch_size=batch_size)\n",
        "\n",
        "\n",
        "val_ds = tf.keras.preprocessing.image_dataset_from_directory(\n",
        "  data_dir,\n",
        "  validation_split=0.2,\n",
        "  subset=\"validation\",\n",
        "  seed=123,\n",
        "  image_size=IMG_SIZE,\n",
        "  batch_size=batch_size)\n"
      ],
      "execution_count": null,
      "outputs": [
        {
          "output_type": "stream",
          "text": [
            "Found 5508 files belonging to 35 classes.\n",
            "Using 4407 files for training.\n",
            "Found 5508 files belonging to 35 classes.\n",
            "Using 1101 files for validation.\n"
          ],
          "name": "stdout"
        }
      ]
    },
    {
      "cell_type": "markdown",
      "metadata": {
        "id": "cqtbmswUXQ3i"
      },
      "source": [
        "model"
      ]
    },
    {
      "cell_type": "code",
      "metadata": {
        "id": "rpwFofzfXQ3i"
      },
      "source": [
        "data_augmentation = tf.keras.Sequential([\n",
        "  tf.keras.layers.experimental.preprocessing.RandomFlip('horizontal'),\n",
        "  tf.keras.layers.experimental.preprocessing.RandomRotation(0.2),\n",
        "])\n",
        "\n",
        "preprocess_input = tf.keras.applications.mobilenet_v2.preprocess_input\n"
      ],
      "execution_count": null,
      "outputs": []
    },
    {
      "cell_type": "code",
      "metadata": {
        "colab": {
          "base_uri": "https://localhost:8080/"
        },
        "id": "PibuDaHOXQ3i",
        "outputId": "a82cefb9-c06e-495d-a085-d8a87790ea5c"
      },
      "source": [
        "\n",
        "IMG_SHAPE = IMG_SIZE + (3,)\n",
        "base_model = tf.keras.applications.MobileNetV2(input_shape=IMG_SHAPE,\n",
        "                                               include_top=False,\n",
        "                                               weights='imagenet')\n",
        "\n",
        "image_batch, label_batch = next(iter(train_ds))\n",
        "feature_batch = base_model(image_batch)\n",
        "print(feature_batch.shape)"
      ],
      "execution_count": null,
      "outputs": [
        {
          "output_type": "stream",
          "text": [
            "Downloading data from https://storage.googleapis.com/tensorflow/keras-applications/mobilenet_v2/mobilenet_v2_weights_tf_dim_ordering_tf_kernels_1.0_224_no_top.h5\n",
            "9412608/9406464 [==============================] - 0s 0us/step\n",
            "(16, 7, 7, 1280)\n"
          ],
          "name": "stdout"
        }
      ]
    },
    {
      "cell_type": "code",
      "metadata": {
        "colab": {
          "base_uri": "https://localhost:8080/"
        },
        "id": "myB6N4SkXQ3i",
        "outputId": "797394c4-568a-4e77-c7f8-cfa783d39164"
      },
      "source": [
        "base_model.trainable = False\n",
        "base_model.summary()\n"
      ],
      "execution_count": null,
      "outputs": [
        {
          "output_type": "stream",
          "text": [
            "Model: \"mobilenetv2_1.00_224\"\n",
            "__________________________________________________________________________________________________\n",
            "Layer (type)                    Output Shape         Param #     Connected to                     \n",
            "==================================================================================================\n",
            "input_1 (InputLayer)            [(None, 224, 224, 3) 0                                            \n",
            "__________________________________________________________________________________________________\n",
            "Conv1_pad (ZeroPadding2D)       (None, 225, 225, 3)  0           input_1[0][0]                    \n",
            "__________________________________________________________________________________________________\n",
            "Conv1 (Conv2D)                  (None, 112, 112, 32) 864         Conv1_pad[0][0]                  \n",
            "__________________________________________________________________________________________________\n",
            "bn_Conv1 (BatchNormalization)   (None, 112, 112, 32) 128         Conv1[0][0]                      \n",
            "__________________________________________________________________________________________________\n",
            "Conv1_relu (ReLU)               (None, 112, 112, 32) 0           bn_Conv1[0][0]                   \n",
            "__________________________________________________________________________________________________\n",
            "expanded_conv_depthwise (Depthw (None, 112, 112, 32) 288         Conv1_relu[0][0]                 \n",
            "__________________________________________________________________________________________________\n",
            "expanded_conv_depthwise_BN (Bat (None, 112, 112, 32) 128         expanded_conv_depthwise[0][0]    \n",
            "__________________________________________________________________________________________________\n",
            "expanded_conv_depthwise_relu (R (None, 112, 112, 32) 0           expanded_conv_depthwise_BN[0][0] \n",
            "__________________________________________________________________________________________________\n",
            "expanded_conv_project (Conv2D)  (None, 112, 112, 16) 512         expanded_conv_depthwise_relu[0][0\n",
            "__________________________________________________________________________________________________\n",
            "expanded_conv_project_BN (Batch (None, 112, 112, 16) 64          expanded_conv_project[0][0]      \n",
            "__________________________________________________________________________________________________\n",
            "block_1_expand (Conv2D)         (None, 112, 112, 96) 1536        expanded_conv_project_BN[0][0]   \n",
            "__________________________________________________________________________________________________\n",
            "block_1_expand_BN (BatchNormali (None, 112, 112, 96) 384         block_1_expand[0][0]             \n",
            "__________________________________________________________________________________________________\n",
            "block_1_expand_relu (ReLU)      (None, 112, 112, 96) 0           block_1_expand_BN[0][0]          \n",
            "__________________________________________________________________________________________________\n",
            "block_1_pad (ZeroPadding2D)     (None, 113, 113, 96) 0           block_1_expand_relu[0][0]        \n",
            "__________________________________________________________________________________________________\n",
            "block_1_depthwise (DepthwiseCon (None, 56, 56, 96)   864         block_1_pad[0][0]                \n",
            "__________________________________________________________________________________________________\n",
            "block_1_depthwise_BN (BatchNorm (None, 56, 56, 96)   384         block_1_depthwise[0][0]          \n",
            "__________________________________________________________________________________________________\n",
            "block_1_depthwise_relu (ReLU)   (None, 56, 56, 96)   0           block_1_depthwise_BN[0][0]       \n",
            "__________________________________________________________________________________________________\n",
            "block_1_project (Conv2D)        (None, 56, 56, 24)   2304        block_1_depthwise_relu[0][0]     \n",
            "__________________________________________________________________________________________________\n",
            "block_1_project_BN (BatchNormal (None, 56, 56, 24)   96          block_1_project[0][0]            \n",
            "__________________________________________________________________________________________________\n",
            "block_2_expand (Conv2D)         (None, 56, 56, 144)  3456        block_1_project_BN[0][0]         \n",
            "__________________________________________________________________________________________________\n",
            "block_2_expand_BN (BatchNormali (None, 56, 56, 144)  576         block_2_expand[0][0]             \n",
            "__________________________________________________________________________________________________\n",
            "block_2_expand_relu (ReLU)      (None, 56, 56, 144)  0           block_2_expand_BN[0][0]          \n",
            "__________________________________________________________________________________________________\n",
            "block_2_depthwise (DepthwiseCon (None, 56, 56, 144)  1296        block_2_expand_relu[0][0]        \n",
            "__________________________________________________________________________________________________\n",
            "block_2_depthwise_BN (BatchNorm (None, 56, 56, 144)  576         block_2_depthwise[0][0]          \n",
            "__________________________________________________________________________________________________\n",
            "block_2_depthwise_relu (ReLU)   (None, 56, 56, 144)  0           block_2_depthwise_BN[0][0]       \n",
            "__________________________________________________________________________________________________\n",
            "block_2_project (Conv2D)        (None, 56, 56, 24)   3456        block_2_depthwise_relu[0][0]     \n",
            "__________________________________________________________________________________________________\n",
            "block_2_project_BN (BatchNormal (None, 56, 56, 24)   96          block_2_project[0][0]            \n",
            "__________________________________________________________________________________________________\n",
            "block_2_add (Add)               (None, 56, 56, 24)   0           block_1_project_BN[0][0]         \n",
            "                                                                 block_2_project_BN[0][0]         \n",
            "__________________________________________________________________________________________________\n",
            "block_3_expand (Conv2D)         (None, 56, 56, 144)  3456        block_2_add[0][0]                \n",
            "__________________________________________________________________________________________________\n",
            "block_3_expand_BN (BatchNormali (None, 56, 56, 144)  576         block_3_expand[0][0]             \n",
            "__________________________________________________________________________________________________\n",
            "block_3_expand_relu (ReLU)      (None, 56, 56, 144)  0           block_3_expand_BN[0][0]          \n",
            "__________________________________________________________________________________________________\n",
            "block_3_pad (ZeroPadding2D)     (None, 57, 57, 144)  0           block_3_expand_relu[0][0]        \n",
            "__________________________________________________________________________________________________\n",
            "block_3_depthwise (DepthwiseCon (None, 28, 28, 144)  1296        block_3_pad[0][0]                \n",
            "__________________________________________________________________________________________________\n",
            "block_3_depthwise_BN (BatchNorm (None, 28, 28, 144)  576         block_3_depthwise[0][0]          \n",
            "__________________________________________________________________________________________________\n",
            "block_3_depthwise_relu (ReLU)   (None, 28, 28, 144)  0           block_3_depthwise_BN[0][0]       \n",
            "__________________________________________________________________________________________________\n",
            "block_3_project (Conv2D)        (None, 28, 28, 32)   4608        block_3_depthwise_relu[0][0]     \n",
            "__________________________________________________________________________________________________\n",
            "block_3_project_BN (BatchNormal (None, 28, 28, 32)   128         block_3_project[0][0]            \n",
            "__________________________________________________________________________________________________\n",
            "block_4_expand (Conv2D)         (None, 28, 28, 192)  6144        block_3_project_BN[0][0]         \n",
            "__________________________________________________________________________________________________\n",
            "block_4_expand_BN (BatchNormali (None, 28, 28, 192)  768         block_4_expand[0][0]             \n",
            "__________________________________________________________________________________________________\n",
            "block_4_expand_relu (ReLU)      (None, 28, 28, 192)  0           block_4_expand_BN[0][0]          \n",
            "__________________________________________________________________________________________________\n",
            "block_4_depthwise (DepthwiseCon (None, 28, 28, 192)  1728        block_4_expand_relu[0][0]        \n",
            "__________________________________________________________________________________________________\n",
            "block_4_depthwise_BN (BatchNorm (None, 28, 28, 192)  768         block_4_depthwise[0][0]          \n",
            "__________________________________________________________________________________________________\n",
            "block_4_depthwise_relu (ReLU)   (None, 28, 28, 192)  0           block_4_depthwise_BN[0][0]       \n",
            "__________________________________________________________________________________________________\n",
            "block_4_project (Conv2D)        (None, 28, 28, 32)   6144        block_4_depthwise_relu[0][0]     \n",
            "__________________________________________________________________________________________________\n",
            "block_4_project_BN (BatchNormal (None, 28, 28, 32)   128         block_4_project[0][0]            \n",
            "__________________________________________________________________________________________________\n",
            "block_4_add (Add)               (None, 28, 28, 32)   0           block_3_project_BN[0][0]         \n",
            "                                                                 block_4_project_BN[0][0]         \n",
            "__________________________________________________________________________________________________\n",
            "block_5_expand (Conv2D)         (None, 28, 28, 192)  6144        block_4_add[0][0]                \n",
            "__________________________________________________________________________________________________\n",
            "block_5_expand_BN (BatchNormali (None, 28, 28, 192)  768         block_5_expand[0][0]             \n",
            "__________________________________________________________________________________________________\n",
            "block_5_expand_relu (ReLU)      (None, 28, 28, 192)  0           block_5_expand_BN[0][0]          \n",
            "__________________________________________________________________________________________________\n",
            "block_5_depthwise (DepthwiseCon (None, 28, 28, 192)  1728        block_5_expand_relu[0][0]        \n",
            "__________________________________________________________________________________________________\n",
            "block_5_depthwise_BN (BatchNorm (None, 28, 28, 192)  768         block_5_depthwise[0][0]          \n",
            "__________________________________________________________________________________________________\n",
            "block_5_depthwise_relu (ReLU)   (None, 28, 28, 192)  0           block_5_depthwise_BN[0][0]       \n",
            "__________________________________________________________________________________________________\n",
            "block_5_project (Conv2D)        (None, 28, 28, 32)   6144        block_5_depthwise_relu[0][0]     \n",
            "__________________________________________________________________________________________________\n",
            "block_5_project_BN (BatchNormal (None, 28, 28, 32)   128         block_5_project[0][0]            \n",
            "__________________________________________________________________________________________________\n",
            "block_5_add (Add)               (None, 28, 28, 32)   0           block_4_add[0][0]                \n",
            "                                                                 block_5_project_BN[0][0]         \n",
            "__________________________________________________________________________________________________\n",
            "block_6_expand (Conv2D)         (None, 28, 28, 192)  6144        block_5_add[0][0]                \n",
            "__________________________________________________________________________________________________\n",
            "block_6_expand_BN (BatchNormali (None, 28, 28, 192)  768         block_6_expand[0][0]             \n",
            "__________________________________________________________________________________________________\n",
            "block_6_expand_relu (ReLU)      (None, 28, 28, 192)  0           block_6_expand_BN[0][0]          \n",
            "__________________________________________________________________________________________________\n",
            "block_6_pad (ZeroPadding2D)     (None, 29, 29, 192)  0           block_6_expand_relu[0][0]        \n",
            "__________________________________________________________________________________________________\n",
            "block_6_depthwise (DepthwiseCon (None, 14, 14, 192)  1728        block_6_pad[0][0]                \n",
            "__________________________________________________________________________________________________\n",
            "block_6_depthwise_BN (BatchNorm (None, 14, 14, 192)  768         block_6_depthwise[0][0]          \n",
            "__________________________________________________________________________________________________\n",
            "block_6_depthwise_relu (ReLU)   (None, 14, 14, 192)  0           block_6_depthwise_BN[0][0]       \n",
            "__________________________________________________________________________________________________\n",
            "block_6_project (Conv2D)        (None, 14, 14, 64)   12288       block_6_depthwise_relu[0][0]     \n",
            "__________________________________________________________________________________________________\n",
            "block_6_project_BN (BatchNormal (None, 14, 14, 64)   256         block_6_project[0][0]            \n",
            "__________________________________________________________________________________________________\n",
            "block_7_expand (Conv2D)         (None, 14, 14, 384)  24576       block_6_project_BN[0][0]         \n",
            "__________________________________________________________________________________________________\n",
            "block_7_expand_BN (BatchNormali (None, 14, 14, 384)  1536        block_7_expand[0][0]             \n",
            "__________________________________________________________________________________________________\n",
            "block_7_expand_relu (ReLU)      (None, 14, 14, 384)  0           block_7_expand_BN[0][0]          \n",
            "__________________________________________________________________________________________________\n",
            "block_7_depthwise (DepthwiseCon (None, 14, 14, 384)  3456        block_7_expand_relu[0][0]        \n",
            "__________________________________________________________________________________________________\n",
            "block_7_depthwise_BN (BatchNorm (None, 14, 14, 384)  1536        block_7_depthwise[0][0]          \n",
            "__________________________________________________________________________________________________\n",
            "block_7_depthwise_relu (ReLU)   (None, 14, 14, 384)  0           block_7_depthwise_BN[0][0]       \n",
            "__________________________________________________________________________________________________\n",
            "block_7_project (Conv2D)        (None, 14, 14, 64)   24576       block_7_depthwise_relu[0][0]     \n",
            "__________________________________________________________________________________________________\n",
            "block_7_project_BN (BatchNormal (None, 14, 14, 64)   256         block_7_project[0][0]            \n",
            "__________________________________________________________________________________________________\n",
            "block_7_add (Add)               (None, 14, 14, 64)   0           block_6_project_BN[0][0]         \n",
            "                                                                 block_7_project_BN[0][0]         \n",
            "__________________________________________________________________________________________________\n",
            "block_8_expand (Conv2D)         (None, 14, 14, 384)  24576       block_7_add[0][0]                \n",
            "__________________________________________________________________________________________________\n",
            "block_8_expand_BN (BatchNormali (None, 14, 14, 384)  1536        block_8_expand[0][0]             \n",
            "__________________________________________________________________________________________________\n",
            "block_8_expand_relu (ReLU)      (None, 14, 14, 384)  0           block_8_expand_BN[0][0]          \n",
            "__________________________________________________________________________________________________\n",
            "block_8_depthwise (DepthwiseCon (None, 14, 14, 384)  3456        block_8_expand_relu[0][0]        \n",
            "__________________________________________________________________________________________________\n",
            "block_8_depthwise_BN (BatchNorm (None, 14, 14, 384)  1536        block_8_depthwise[0][0]          \n",
            "__________________________________________________________________________________________________\n",
            "block_8_depthwise_relu (ReLU)   (None, 14, 14, 384)  0           block_8_depthwise_BN[0][0]       \n",
            "__________________________________________________________________________________________________\n",
            "block_8_project (Conv2D)        (None, 14, 14, 64)   24576       block_8_depthwise_relu[0][0]     \n",
            "__________________________________________________________________________________________________\n",
            "block_8_project_BN (BatchNormal (None, 14, 14, 64)   256         block_8_project[0][0]            \n",
            "__________________________________________________________________________________________________\n",
            "block_8_add (Add)               (None, 14, 14, 64)   0           block_7_add[0][0]                \n",
            "                                                                 block_8_project_BN[0][0]         \n",
            "__________________________________________________________________________________________________\n",
            "block_9_expand (Conv2D)         (None, 14, 14, 384)  24576       block_8_add[0][0]                \n",
            "__________________________________________________________________________________________________\n",
            "block_9_expand_BN (BatchNormali (None, 14, 14, 384)  1536        block_9_expand[0][0]             \n",
            "__________________________________________________________________________________________________\n",
            "block_9_expand_relu (ReLU)      (None, 14, 14, 384)  0           block_9_expand_BN[0][0]          \n",
            "__________________________________________________________________________________________________\n",
            "block_9_depthwise (DepthwiseCon (None, 14, 14, 384)  3456        block_9_expand_relu[0][0]        \n",
            "__________________________________________________________________________________________________\n",
            "block_9_depthwise_BN (BatchNorm (None, 14, 14, 384)  1536        block_9_depthwise[0][0]          \n",
            "__________________________________________________________________________________________________\n",
            "block_9_depthwise_relu (ReLU)   (None, 14, 14, 384)  0           block_9_depthwise_BN[0][0]       \n",
            "__________________________________________________________________________________________________\n",
            "block_9_project (Conv2D)        (None, 14, 14, 64)   24576       block_9_depthwise_relu[0][0]     \n",
            "__________________________________________________________________________________________________\n",
            "block_9_project_BN (BatchNormal (None, 14, 14, 64)   256         block_9_project[0][0]            \n",
            "__________________________________________________________________________________________________\n",
            "block_9_add (Add)               (None, 14, 14, 64)   0           block_8_add[0][0]                \n",
            "                                                                 block_9_project_BN[0][0]         \n",
            "__________________________________________________________________________________________________\n",
            "block_10_expand (Conv2D)        (None, 14, 14, 384)  24576       block_9_add[0][0]                \n",
            "__________________________________________________________________________________________________\n",
            "block_10_expand_BN (BatchNormal (None, 14, 14, 384)  1536        block_10_expand[0][0]            \n",
            "__________________________________________________________________________________________________\n",
            "block_10_expand_relu (ReLU)     (None, 14, 14, 384)  0           block_10_expand_BN[0][0]         \n",
            "__________________________________________________________________________________________________\n",
            "block_10_depthwise (DepthwiseCo (None, 14, 14, 384)  3456        block_10_expand_relu[0][0]       \n",
            "__________________________________________________________________________________________________\n",
            "block_10_depthwise_BN (BatchNor (None, 14, 14, 384)  1536        block_10_depthwise[0][0]         \n",
            "__________________________________________________________________________________________________\n",
            "block_10_depthwise_relu (ReLU)  (None, 14, 14, 384)  0           block_10_depthwise_BN[0][0]      \n",
            "__________________________________________________________________________________________________\n",
            "block_10_project (Conv2D)       (None, 14, 14, 96)   36864       block_10_depthwise_relu[0][0]    \n",
            "__________________________________________________________________________________________________\n",
            "block_10_project_BN (BatchNorma (None, 14, 14, 96)   384         block_10_project[0][0]           \n",
            "__________________________________________________________________________________________________\n",
            "block_11_expand (Conv2D)        (None, 14, 14, 576)  55296       block_10_project_BN[0][0]        \n",
            "__________________________________________________________________________________________________\n",
            "block_11_expand_BN (BatchNormal (None, 14, 14, 576)  2304        block_11_expand[0][0]            \n",
            "__________________________________________________________________________________________________\n",
            "block_11_expand_relu (ReLU)     (None, 14, 14, 576)  0           block_11_expand_BN[0][0]         \n",
            "__________________________________________________________________________________________________\n",
            "block_11_depthwise (DepthwiseCo (None, 14, 14, 576)  5184        block_11_expand_relu[0][0]       \n",
            "__________________________________________________________________________________________________\n",
            "block_11_depthwise_BN (BatchNor (None, 14, 14, 576)  2304        block_11_depthwise[0][0]         \n",
            "__________________________________________________________________________________________________\n",
            "block_11_depthwise_relu (ReLU)  (None, 14, 14, 576)  0           block_11_depthwise_BN[0][0]      \n",
            "__________________________________________________________________________________________________\n",
            "block_11_project (Conv2D)       (None, 14, 14, 96)   55296       block_11_depthwise_relu[0][0]    \n",
            "__________________________________________________________________________________________________\n",
            "block_11_project_BN (BatchNorma (None, 14, 14, 96)   384         block_11_project[0][0]           \n",
            "__________________________________________________________________________________________________\n",
            "block_11_add (Add)              (None, 14, 14, 96)   0           block_10_project_BN[0][0]        \n",
            "                                                                 block_11_project_BN[0][0]        \n",
            "__________________________________________________________________________________________________\n",
            "block_12_expand (Conv2D)        (None, 14, 14, 576)  55296       block_11_add[0][0]               \n",
            "__________________________________________________________________________________________________\n",
            "block_12_expand_BN (BatchNormal (None, 14, 14, 576)  2304        block_12_expand[0][0]            \n",
            "__________________________________________________________________________________________________\n",
            "block_12_expand_relu (ReLU)     (None, 14, 14, 576)  0           block_12_expand_BN[0][0]         \n",
            "__________________________________________________________________________________________________\n",
            "block_12_depthwise (DepthwiseCo (None, 14, 14, 576)  5184        block_12_expand_relu[0][0]       \n",
            "__________________________________________________________________________________________________\n",
            "block_12_depthwise_BN (BatchNor (None, 14, 14, 576)  2304        block_12_depthwise[0][0]         \n",
            "__________________________________________________________________________________________________\n",
            "block_12_depthwise_relu (ReLU)  (None, 14, 14, 576)  0           block_12_depthwise_BN[0][0]      \n",
            "__________________________________________________________________________________________________\n",
            "block_12_project (Conv2D)       (None, 14, 14, 96)   55296       block_12_depthwise_relu[0][0]    \n",
            "__________________________________________________________________________________________________\n",
            "block_12_project_BN (BatchNorma (None, 14, 14, 96)   384         block_12_project[0][0]           \n",
            "__________________________________________________________________________________________________\n",
            "block_12_add (Add)              (None, 14, 14, 96)   0           block_11_add[0][0]               \n",
            "                                                                 block_12_project_BN[0][0]        \n",
            "__________________________________________________________________________________________________\n",
            "block_13_expand (Conv2D)        (None, 14, 14, 576)  55296       block_12_add[0][0]               \n",
            "__________________________________________________________________________________________________\n",
            "block_13_expand_BN (BatchNormal (None, 14, 14, 576)  2304        block_13_expand[0][0]            \n",
            "__________________________________________________________________________________________________\n",
            "block_13_expand_relu (ReLU)     (None, 14, 14, 576)  0           block_13_expand_BN[0][0]         \n",
            "__________________________________________________________________________________________________\n",
            "block_13_pad (ZeroPadding2D)    (None, 15, 15, 576)  0           block_13_expand_relu[0][0]       \n",
            "__________________________________________________________________________________________________\n",
            "block_13_depthwise (DepthwiseCo (None, 7, 7, 576)    5184        block_13_pad[0][0]               \n",
            "__________________________________________________________________________________________________\n",
            "block_13_depthwise_BN (BatchNor (None, 7, 7, 576)    2304        block_13_depthwise[0][0]         \n",
            "__________________________________________________________________________________________________\n",
            "block_13_depthwise_relu (ReLU)  (None, 7, 7, 576)    0           block_13_depthwise_BN[0][0]      \n",
            "__________________________________________________________________________________________________\n",
            "block_13_project (Conv2D)       (None, 7, 7, 160)    92160       block_13_depthwise_relu[0][0]    \n",
            "__________________________________________________________________________________________________\n",
            "block_13_project_BN (BatchNorma (None, 7, 7, 160)    640         block_13_project[0][0]           \n",
            "__________________________________________________________________________________________________\n",
            "block_14_expand (Conv2D)        (None, 7, 7, 960)    153600      block_13_project_BN[0][0]        \n",
            "__________________________________________________________________________________________________\n",
            "block_14_expand_BN (BatchNormal (None, 7, 7, 960)    3840        block_14_expand[0][0]            \n",
            "__________________________________________________________________________________________________\n",
            "block_14_expand_relu (ReLU)     (None, 7, 7, 960)    0           block_14_expand_BN[0][0]         \n",
            "__________________________________________________________________________________________________\n",
            "block_14_depthwise (DepthwiseCo (None, 7, 7, 960)    8640        block_14_expand_relu[0][0]       \n",
            "__________________________________________________________________________________________________\n",
            "block_14_depthwise_BN (BatchNor (None, 7, 7, 960)    3840        block_14_depthwise[0][0]         \n",
            "__________________________________________________________________________________________________\n",
            "block_14_depthwise_relu (ReLU)  (None, 7, 7, 960)    0           block_14_depthwise_BN[0][0]      \n",
            "__________________________________________________________________________________________________\n",
            "block_14_project (Conv2D)       (None, 7, 7, 160)    153600      block_14_depthwise_relu[0][0]    \n",
            "__________________________________________________________________________________________________\n",
            "block_14_project_BN (BatchNorma (None, 7, 7, 160)    640         block_14_project[0][0]           \n",
            "__________________________________________________________________________________________________\n",
            "block_14_add (Add)              (None, 7, 7, 160)    0           block_13_project_BN[0][0]        \n",
            "                                                                 block_14_project_BN[0][0]        \n",
            "__________________________________________________________________________________________________\n",
            "block_15_expand (Conv2D)        (None, 7, 7, 960)    153600      block_14_add[0][0]               \n",
            "__________________________________________________________________________________________________\n",
            "block_15_expand_BN (BatchNormal (None, 7, 7, 960)    3840        block_15_expand[0][0]            \n",
            "__________________________________________________________________________________________________\n",
            "block_15_expand_relu (ReLU)     (None, 7, 7, 960)    0           block_15_expand_BN[0][0]         \n",
            "__________________________________________________________________________________________________\n",
            "block_15_depthwise (DepthwiseCo (None, 7, 7, 960)    8640        block_15_expand_relu[0][0]       \n",
            "__________________________________________________________________________________________________\n",
            "block_15_depthwise_BN (BatchNor (None, 7, 7, 960)    3840        block_15_depthwise[0][0]         \n",
            "__________________________________________________________________________________________________\n",
            "block_15_depthwise_relu (ReLU)  (None, 7, 7, 960)    0           block_15_depthwise_BN[0][0]      \n",
            "__________________________________________________________________________________________________\n",
            "block_15_project (Conv2D)       (None, 7, 7, 160)    153600      block_15_depthwise_relu[0][0]    \n",
            "__________________________________________________________________________________________________\n",
            "block_15_project_BN (BatchNorma (None, 7, 7, 160)    640         block_15_project[0][0]           \n",
            "__________________________________________________________________________________________________\n",
            "block_15_add (Add)              (None, 7, 7, 160)    0           block_14_add[0][0]               \n",
            "                                                                 block_15_project_BN[0][0]        \n",
            "__________________________________________________________________________________________________\n",
            "block_16_expand (Conv2D)        (None, 7, 7, 960)    153600      block_15_add[0][0]               \n",
            "__________________________________________________________________________________________________\n",
            "block_16_expand_BN (BatchNormal (None, 7, 7, 960)    3840        block_16_expand[0][0]            \n",
            "__________________________________________________________________________________________________\n",
            "block_16_expand_relu (ReLU)     (None, 7, 7, 960)    0           block_16_expand_BN[0][0]         \n",
            "__________________________________________________________________________________________________\n",
            "block_16_depthwise (DepthwiseCo (None, 7, 7, 960)    8640        block_16_expand_relu[0][0]       \n",
            "__________________________________________________________________________________________________\n",
            "block_16_depthwise_BN (BatchNor (None, 7, 7, 960)    3840        block_16_depthwise[0][0]         \n",
            "__________________________________________________________________________________________________\n",
            "block_16_depthwise_relu (ReLU)  (None, 7, 7, 960)    0           block_16_depthwise_BN[0][0]      \n",
            "__________________________________________________________________________________________________\n",
            "block_16_project (Conv2D)       (None, 7, 7, 320)    307200      block_16_depthwise_relu[0][0]    \n",
            "__________________________________________________________________________________________________\n",
            "block_16_project_BN (BatchNorma (None, 7, 7, 320)    1280        block_16_project[0][0]           \n",
            "__________________________________________________________________________________________________\n",
            "Conv_1 (Conv2D)                 (None, 7, 7, 1280)   409600      block_16_project_BN[0][0]        \n",
            "__________________________________________________________________________________________________\n",
            "Conv_1_bn (BatchNormalization)  (None, 7, 7, 1280)   5120        Conv_1[0][0]                     \n",
            "__________________________________________________________________________________________________\n",
            "out_relu (ReLU)                 (None, 7, 7, 1280)   0           Conv_1_bn[0][0]                  \n",
            "==================================================================================================\n",
            "Total params: 2,257,984\n",
            "Trainable params: 0\n",
            "Non-trainable params: 2,257,984\n",
            "__________________________________________________________________________________________________\n"
          ],
          "name": "stdout"
        }
      ]
    },
    {
      "cell_type": "code",
      "metadata": {
        "colab": {
          "base_uri": "https://localhost:8080/"
        },
        "id": "1zLMh_9hXQ3j",
        "outputId": "e6e55de1-900e-4c95-e128-30de56166baa"
      },
      "source": [
        "global_average_layer = tf.keras.layers.GlobalAveragePooling2D()\n",
        "feature_batch_average = global_average_layer(feature_batch)\n",
        "print(feature_batch_average.shape)"
      ],
      "execution_count": null,
      "outputs": [
        {
          "output_type": "stream",
          "text": [
            "(16, 1280)\n"
          ],
          "name": "stdout"
        }
      ]
    },
    {
      "cell_type": "code",
      "metadata": {
        "colab": {
          "base_uri": "https://localhost:8080/"
        },
        "id": "AfplmKIxXQ3j",
        "outputId": "b4ff7b12-5481-478f-baad-234a6fb0ea49"
      },
      "source": [
        "prediction_layer = tf.keras.layers.Dense(num_classes)\n",
        "prediction_batch = prediction_layer(feature_batch_average)\n",
        "print(prediction_batch.shape)"
      ],
      "execution_count": null,
      "outputs": [
        {
          "output_type": "stream",
          "text": [
            "(16, 35)\n"
          ],
          "name": "stdout"
        }
      ]
    },
    {
      "cell_type": "code",
      "metadata": {
        "id": "m18kQg6WXQ3j"
      },
      "source": [
        "inputs = tf.keras.Input(shape=(img_width, img_height, 3))\n",
        "x = data_augmentation(inputs)\n",
        "x = preprocess_input(x)\n",
        "x = base_model(x, training=False)\n",
        "x = global_average_layer(x)\n",
        "x = tf.keras.layers.Dropout(0.2)(x)\n",
        "outputs = prediction_layer(x)\n",
        "model = tf.keras.Model(inputs, outputs)"
      ],
      "execution_count": null,
      "outputs": []
    },
    {
      "cell_type": "code",
      "metadata": {
        "colab": {
          "base_uri": "https://localhost:8080/"
        },
        "id": "y4FTBeujXQ3j",
        "outputId": "f599bf01-0e3a-4f44-b443-dd01f116866d"
      },
      "source": [
        "model.summary()"
      ],
      "execution_count": null,
      "outputs": [
        {
          "output_type": "stream",
          "text": [
            "Model: \"functional_1\"\n",
            "_________________________________________________________________\n",
            "Layer (type)                 Output Shape              Param #   \n",
            "=================================================================\n",
            "input_2 (InputLayer)         [(None, 224, 224, 3)]     0         \n",
            "_________________________________________________________________\n",
            "sequential (Sequential)      (None, 224, 224, 3)       0         \n",
            "_________________________________________________________________\n",
            "tf_op_layer_RealDiv (TensorF [(None, 224, 224, 3)]     0         \n",
            "_________________________________________________________________\n",
            "tf_op_layer_Sub (TensorFlowO [(None, 224, 224, 3)]     0         \n",
            "_________________________________________________________________\n",
            "mobilenetv2_1.00_224 (Functi (None, 7, 7, 1280)        2257984   \n",
            "_________________________________________________________________\n",
            "global_average_pooling2d (Gl (None, 1280)              0         \n",
            "_________________________________________________________________\n",
            "dropout (Dropout)            (None, 1280)              0         \n",
            "_________________________________________________________________\n",
            "dense (Dense)                (None, 35)                44835     \n",
            "=================================================================\n",
            "Total params: 2,302,819\n",
            "Trainable params: 44,835\n",
            "Non-trainable params: 2,257,984\n",
            "_________________________________________________________________\n"
          ],
          "name": "stdout"
        }
      ]
    },
    {
      "cell_type": "code",
      "metadata": {
        "id": "M7Etp09PXQ3j"
      },
      "source": [
        "base_learning_rate = 0.0001\n",
        "model.compile(optimizer=tf.keras.optimizers.Adam(lr=base_learning_rate),\n",
        "              loss=tf.keras.losses.SparseCategoricalCrossentropy(from_logits=True),\n",
        "              metrics=['accuracy'])"
      ],
      "execution_count": null,
      "outputs": []
    },
    {
      "cell_type": "code",
      "metadata": {
        "id": "rRkDmSMUK2Fm"
      },
      "source": [
        "# Recreate the exact same model, including its weights and the optimizer\n",
        "# model = tf.keras.models.load_model(root +'models/best_model.h5')"
      ],
      "execution_count": null,
      "outputs": []
    },
    {
      "cell_type": "code",
      "metadata": {
        "colab": {
          "base_uri": "https://localhost:8080/"
        },
        "id": "F8o-L-cGXQ3j",
        "outputId": "6d4a3d3c-8a79-4808-f6cb-c85c5fb89ce6"
      },
      "source": [
        "epochs=50\n",
        "history = model.fit(\n",
        "  train_ds,\n",
        "  validation_data=val_ds,\n",
        "  epochs=epochs,\n",
        "  callbacks=[tensorboard_callback, CustomCallback()])"
      ],
      "execution_count": null,
      "outputs": [
        {
          "output_type": "stream",
          "text": [
            "Preparing for catching best Model .......\n",
            "Epoch 1/50\n",
            "276/276 [==============================] - ETA: 0s - loss: 3.7111 - accuracy: 0.0713\n",
            "@Epoch=0: Saving Model .... \n",
            "276/276 [==============================] - 2553s 9s/step - loss: 3.7111 - accuracy: 0.0713 - val_loss: 3.4090 - val_accuracy: 0.1017\n",
            "Epoch 2/50\n",
            "276/276 [==============================] - 36s 129ms/step - loss: 3.4157 - accuracy: 0.1221 - val_loss: 3.2261 - val_accuracy: 0.1535\n",
            "Epoch 3/50\n",
            "276/276 [==============================] - 37s 132ms/step - loss: 3.2534 - accuracy: 0.1520 - val_loss: 3.0975 - val_accuracy: 0.1753\n",
            "Epoch 4/50\n",
            "276/276 [==============================] - 37s 134ms/step - loss: 3.1129 - accuracy: 0.1656 - val_loss: 3.0029 - val_accuracy: 0.1971\n",
            "Epoch 5/50\n",
            "276/276 [==============================] - 36s 131ms/step - loss: 2.9905 - accuracy: 0.2033 - val_loss: 2.9297 - val_accuracy: 0.2071\n",
            "Epoch 6/50\n",
            "276/276 [==============================] - 36s 130ms/step - loss: 2.9080 - accuracy: 0.2183 - val_loss: 2.8702 - val_accuracy: 0.2280\n",
            "Epoch 7/50\n",
            "276/276 [==============================] - 36s 130ms/step - loss: 2.8438 - accuracy: 0.2217 - val_loss: 2.8285 - val_accuracy: 0.2361\n",
            "Epoch 8/50\n",
            "276/276 [==============================] - 36s 132ms/step - loss: 2.7901 - accuracy: 0.2389 - val_loss: 2.7915 - val_accuracy: 0.2498\n",
            "Epoch 9/50\n",
            "276/276 [==============================] - 36s 132ms/step - loss: 2.7110 - accuracy: 0.2464 - val_loss: 2.7602 - val_accuracy: 0.2598\n",
            "Epoch 10/50\n",
            "276/276 [==============================] - 36s 130ms/step - loss: 2.6736 - accuracy: 0.2634 - val_loss: 2.7336 - val_accuracy: 0.2625\n",
            "Epoch 11/50\n",
            "276/276 [==============================] - 36s 129ms/step - loss: 2.6176 - accuracy: 0.2773 - val_loss: 2.7047 - val_accuracy: 0.2670\n",
            "Epoch 12/50\n",
            "276/276 [==============================] - 37s 134ms/step - loss: 2.5957 - accuracy: 0.2759 - val_loss: 2.6877 - val_accuracy: 0.2716\n",
            "Epoch 13/50\n",
            "276/276 [==============================] - 36s 132ms/step - loss: 2.5607 - accuracy: 0.2811 - val_loss: 2.6696 - val_accuracy: 0.2752\n",
            "Epoch 14/50\n",
            "276/276 [==============================] - 36s 131ms/step - loss: 2.5226 - accuracy: 0.2948 - val_loss: 2.6536 - val_accuracy: 0.2788\n",
            "Epoch 15/50\n",
            "276/276 [==============================] - 36s 131ms/step - loss: 2.4843 - accuracy: 0.3070 - val_loss: 2.6363 - val_accuracy: 0.2861\n",
            "Epoch 16/50\n",
            "276/276 [==============================] - 36s 130ms/step - loss: 2.4813 - accuracy: 0.3036 - val_loss: 2.6286 - val_accuracy: 0.2906\n",
            "Epoch 17/50\n",
            "276/276 [==============================] - 36s 131ms/step - loss: 2.4642 - accuracy: 0.3020 - val_loss: 2.6129 - val_accuracy: 0.2888\n",
            "Epoch 18/50\n",
            "276/276 [==============================] - 37s 132ms/step - loss: 2.4360 - accuracy: 0.3050 - val_loss: 2.6090 - val_accuracy: 0.2906\n",
            "Epoch 19/50\n",
            "276/276 [==============================] - 36s 132ms/step - loss: 2.4114 - accuracy: 0.3186 - val_loss: 2.6019 - val_accuracy: 0.2879\n",
            "Epoch 20/50\n",
            "276/276 [==============================] - 36s 132ms/step - loss: 2.3706 - accuracy: 0.3247 - val_loss: 2.5911 - val_accuracy: 0.2916\n",
            "Epoch 21/50\n",
            "276/276 [==============================] - 37s 133ms/step - loss: 2.3586 - accuracy: 0.3329 - val_loss: 2.5855 - val_accuracy: 0.2897\n",
            "Epoch 22/50\n",
            "276/276 [==============================] - 36s 132ms/step - loss: 2.3650 - accuracy: 0.3279 - val_loss: 2.5823 - val_accuracy: 0.2879\n",
            "Epoch 23/50\n",
            "276/276 [==============================] - 36s 132ms/step - loss: 2.3116 - accuracy: 0.3447 - val_loss: 2.5774 - val_accuracy: 0.2852\n",
            "Epoch 24/50\n",
            "276/276 [==============================] - 36s 132ms/step - loss: 2.3036 - accuracy: 0.3483 - val_loss: 2.5811 - val_accuracy: 0.2897\n",
            "Epoch 25/50\n",
            "276/276 [==============================] - 36s 130ms/step - loss: 2.2699 - accuracy: 0.3522 - val_loss: 2.5699 - val_accuracy: 0.2952\n",
            "Epoch 26/50\n",
            "276/276 [==============================] - 36s 130ms/step - loss: 2.2649 - accuracy: 0.3501 - val_loss: 2.5662 - val_accuracy: 0.2970\n",
            "Epoch 27/50\n",
            "276/276 [==============================] - 36s 132ms/step - loss: 2.2559 - accuracy: 0.3590 - val_loss: 2.5548 - val_accuracy: 0.2970\n",
            "Epoch 28/50\n",
            "276/276 [==============================] - 37s 133ms/step - loss: 2.2280 - accuracy: 0.3587 - val_loss: 2.5589 - val_accuracy: 0.2952\n",
            "Epoch 29/50\n",
            "276/276 [==============================] - 37s 136ms/step - loss: 2.2217 - accuracy: 0.3592 - val_loss: 2.5548 - val_accuracy: 0.2952\n",
            "Epoch 30/50\n",
            "276/276 [==============================] - 36s 130ms/step - loss: 2.2239 - accuracy: 0.3644 - val_loss: 2.5535 - val_accuracy: 0.2988\n",
            "Epoch 31/50\n",
            "276/276 [==============================] - 36s 131ms/step - loss: 2.2030 - accuracy: 0.3608 - val_loss: 2.5594 - val_accuracy: 0.2952\n",
            "Epoch 32/50\n",
            "276/276 [==============================] - 37s 132ms/step - loss: 2.1907 - accuracy: 0.3624 - val_loss: 2.5566 - val_accuracy: 0.2943\n",
            "Epoch 33/50\n",
            "276/276 [==============================] - 36s 132ms/step - loss: 2.1786 - accuracy: 0.3730 - val_loss: 2.5551 - val_accuracy: 0.2961\n",
            "Epoch 34/50\n",
            "276/276 [==============================] - 36s 132ms/step - loss: 2.1596 - accuracy: 0.3721 - val_loss: 2.5524 - val_accuracy: 0.2906\n",
            "Epoch 35/50\n",
            "276/276 [==============================] - 36s 130ms/step - loss: 2.1459 - accuracy: 0.3799 - val_loss: 2.5519 - val_accuracy: 0.2943\n",
            "Epoch 36/50\n",
            "276/276 [==============================] - 36s 132ms/step - loss: 2.1353 - accuracy: 0.3830 - val_loss: 2.5554 - val_accuracy: 0.3025\n",
            "Epoch 37/50\n",
            "276/276 [==============================] - 37s 134ms/step - loss: 2.1230 - accuracy: 0.3857 - val_loss: 2.5500 - val_accuracy: 0.2970\n",
            "Epoch 38/50\n",
            "276/276 [==============================] - 37s 135ms/step - loss: 2.1309 - accuracy: 0.3892 - val_loss: 2.5559 - val_accuracy: 0.2943\n",
            "Epoch 39/50\n",
            "276/276 [==============================] - 36s 132ms/step - loss: 2.1101 - accuracy: 0.3937 - val_loss: 2.5501 - val_accuracy: 0.3043\n",
            "Epoch 40/50\n",
            "276/276 [==============================] - 36s 130ms/step - loss: 2.1180 - accuracy: 0.3851 - val_loss: 2.5505 - val_accuracy: 0.3034\n",
            "Epoch 41/50\n",
            "276/276 [==============================] - 37s 133ms/step - loss: 2.0995 - accuracy: 0.4010 - val_loss: 2.5445 - val_accuracy: 0.3043\n",
            "Epoch 42/50\n",
            "276/276 [==============================] - 37s 132ms/step - loss: 2.0761 - accuracy: 0.4044 - val_loss: 2.5494 - val_accuracy: 0.2988\n",
            "Epoch 43/50\n",
            "276/276 [==============================] - 37s 133ms/step - loss: 2.0771 - accuracy: 0.3980 - val_loss: 2.5440 - val_accuracy: 0.2970\n",
            "Epoch 44/50\n",
            "276/276 [==============================] - 36s 130ms/step - loss: 2.0479 - accuracy: 0.4064 - val_loss: 2.5467 - val_accuracy: 0.3025\n",
            "Epoch 45/50\n",
            "276/276 [==============================] - 36s 131ms/step - loss: 2.0630 - accuracy: 0.3973 - val_loss: 2.5468 - val_accuracy: 0.3052\n",
            "Epoch 46/50\n",
            "276/276 [==============================] - 37s 135ms/step - loss: 2.0580 - accuracy: 0.4041 - val_loss: 2.5420 - val_accuracy: 0.3052\n",
            "Epoch 47/50\n",
            "276/276 [==============================] - 37s 132ms/step - loss: 2.0435 - accuracy: 0.4023 - val_loss: 2.5435 - val_accuracy: 0.3025\n",
            "Epoch 48/50\n",
            "276/276 [==============================] - 37s 132ms/step - loss: 2.0518 - accuracy: 0.4128 - val_loss: 2.5466 - val_accuracy: 0.3043\n",
            "Epoch 49/50\n",
            "276/276 [==============================] - 36s 130ms/step - loss: 2.0206 - accuracy: 0.4141 - val_loss: 2.5455 - val_accuracy: 0.3015\n",
            "Epoch 50/50\n",
            "276/276 [==============================] - 36s 131ms/step - loss: 2.0149 - accuracy: 0.4168 - val_loss: 2.5478 - val_accuracy: 0.3025\n"
          ],
          "name": "stdout"
        }
      ]
    },
    {
      "cell_type": "code",
      "metadata": {
        "id": "M3jQ3hYJOxF2"
      },
      "source": [
        ""
      ],
      "execution_count": null,
      "outputs": []
    },
    {
      "cell_type": "code",
      "metadata": {
        "colab": {
          "base_uri": "https://localhost:8080/",
          "height": 499
        },
        "id": "2vd_jWncXQ3j",
        "outputId": "ed791834-a466-4e05-87d0-bb6963c45b94"
      },
      "source": [
        "acc = history.history['accuracy']\n",
        "val_acc = history.history['val_accuracy']\n",
        "\n",
        "loss = history.history['loss']\n",
        "val_loss = history.history['val_loss']\n",
        "\n",
        "epochs_range = range(epochs)\n",
        "\n",
        "plt.figure(figsize=(8, 8))\n",
        "plt.subplot(1, 2, 1)\n",
        "plt.plot(epochs_range, acc, label='Training Accuracy')\n",
        "plt.plot(epochs_range, val_acc, label='Validation Accuracy')\n",
        "plt.legend(loc='lower right')\n",
        "plt.title('Training and Validation Accuracy')\n",
        "\n",
        "plt.subplot(1, 2, 2)\n",
        "plt.plot(epochs_range, loss, label='Training Loss')\n",
        "plt.plot(epochs_range, val_loss, label='Validation Loss')\n",
        "plt.legend(loc='upper right')\n",
        "plt.title('Training and Validation Loss')\n",
        "plt.show()"
      ],
      "execution_count": null,
      "outputs": [
        {
          "output_type": "display_data",
          "data": {
            "image/png": "[encoded data removed]",
            "text/plain": [
              "<Figure size 576x576 with 2 Axes>"
            ]
          },
          "metadata": {
            "tags": []
          }
        }
      ]
    },
    {
      "cell_type": "markdown",
      "metadata": {
        "id": "mHjkt4kjXQ3j"
      },
      "source": [
        "submission"
      ]
    },
    {
      "cell_type": "code",
      "metadata": {
        "colab": {
          "base_uri": "https://localhost:8080/"
        },
        "id": "b5kgTadBSd3Q",
        "outputId": "4d63e0ff-51d5-4dcf-f54c-b9b2d603ff78"
      },
      "source": [
        "# load the best model and evaluate\n",
        "best_model = tf.keras.models.load_model(root +'models/best_model.h5')\n",
        "print(best_model.evaluate_generator(val_ds))\n",
        "print(model.evaluate_generator(val_ds))"
      ],
      "execution_count": null,
      "outputs": [
        {
          "output_type": "stream",
          "text": [
            "[3.409022092819214, 0.011807448230683804]\n",
            "[2.5477941036224365, 0.30245232582092285]\n"
          ],
          "name": "stdout"
        }
      ]
    },
    {
      "cell_type": "code",
      "metadata": {
        "colab": {
          "base_uri": "https://localhost:8080/"
        },
        "id": "5DwuEFh1XQ3j",
        "outputId": "915bff5d-595d-4e34-f053-41fc4b4922d0"
      },
      "source": [
        "import pathlib\n",
        "import PIL\n",
        "\n",
        "img_paths = root + \"tfData/test\"\n",
        "data_dir = pathlib.Path(img_paths)\n",
        "roses = list(data_dir.glob('*.jpg'))\n",
        "\n",
        "LABELS = train_ds.class_names\n",
        "print(len(roses))\n",
        "\n",
        "# submission\n",
        "submission_data = []\n",
        "\n",
        "for img_index in range(len(roses)):    \n",
        "    # load the image from path\n",
        "    image = tf.keras.preprocessing.image.load_img(str(roses[img_index]))\n",
        "    \n",
        "    # to numpy array\n",
        "    input_arr = tf.keras.preprocessing.image.img_to_array(image)\n",
        "\n",
        "    # resize into IMG_SIZE\n",
        "    # print(input_arr.shape)\n",
        "    # input_arr.resize(IMG_SHAPE)\n",
        "    # print(input_arr.shape)\n",
        "\n",
        "    # adding a dimension\n",
        "    input_arr = np.array([input_arr])  # Convert single image to a batch.\n",
        "    \n",
        "    # model predictions\n",
        "    predictions = model.predict(input_arr)\n",
        "    # print(np.argmax(predictions[0]))\n",
        "    # print(LABELS[np.argmax(predictions[0])])\n",
        "    # print(\"-----\")\n",
        "    \n",
        "    # find the class names\n",
        "    label = LABELS[np.argmax(predictions)]\n",
        "    \n",
        "    # find the image_id\n",
        "    image_id = str(roses[img_index]).split(\"/\")[-1].split(\".\")[0]\n",
        "\n",
        "    # add to prediction result\n",
        "    submission_data.append([image_id,label])\n",
        "    # if (img_index +1) %100 ==0:\n",
        "    #   break\n",
        "else:\n",
        "    print(\"Done. Saving in dataframe for Submission\")\n",
        "    submission_data = pd.DataFrame(data=submission_data,columns=[\"image_id\",\"breed\"],index=None)\n",
        "    print(submission_data.head())"
      ],
      "execution_count": null,
      "outputs": [
        {
          "output_type": "stream",
          "text": [
            "2361\n",
            "Done. Saving in dataframe for Submission\n",
            "     image_id             breed\n",
            "0  a869568b74    crotalus-atrox\n",
            "1  b70ed6998c   storeria-dekayi\n",
            "2  2c983824a0    crotalus-atrox\n",
            "3  630628b60b  crotalus-viridis\n",
            "4  9270b2e18c    crotalus-atrox\n"
          ],
          "name": "stdout"
        }
      ]
    },
    {
      "cell_type": "code",
      "metadata": {
        "colab": {
          "base_uri": "https://localhost:8080/",
          "height": 17
        },
        "id": "ECloxFNGXQ3j",
        "outputId": "46c7b538-43d6-4c7e-b1f0-c37df555919c"
      },
      "source": [
        "import time\n",
        "\n",
        "if not os.path.exists(root + \"./submission\"):\n",
        "    os.mkdir(root + \"/submission\")\n",
        "save_submission_path = root + \"./submission/%s.csv\"%(time.ctime())\n",
        "submission_data.to_csv(save_submission_path,index=False)\n",
        "\n",
        "files.download(save_submission_path)"
      ],
      "execution_count": null,
      "outputs": [
        {
          "output_type": "display_data",
          "data": {
            "application/javascript": [
              "\n",
              "    async function download(id, filename, size) {\n",
              "      if (!google.colab.kernel.accessAllowed) {\n",
              "        return;\n",
              "      }\n",
              "      const div = document.createElement('div');\n",
              "      const label = document.createElement('label');\n",
              "      label.textContent = `Downloading \"${filename}\": `;\n",
              "      div.appendChild(label);\n",
              "      const progress = document.createElement('progress');\n",
              "      progress.max = size;\n",
              "      div.appendChild(progress);\n",
              "      document.body.appendChild(div);\n",
              "\n",
              "      const buffers = [];\n",
              "      let downloaded = 0;\n",
              "\n",
              "      const channel = await google.colab.kernel.comms.open(id);\n",
              "      // Send a message to notify the kernel that we're ready.\n",
              "      channel.send({})\n",
              "\n",
              "      for await (const message of channel.messages) {\n",
              "        // Send a message to notify the kernel that we're ready.\n",
              "        channel.send({})\n",
              "        if (message.buffers) {\n",
              "          for (const buffer of message.buffers) {\n",
              "            buffers.push(buffer);\n",
              "            downloaded += buffer.byteLength;\n",
              "            progress.value = downloaded;\n",
              "          }\n",
              "        }\n",
              "      }\n",
              "      const blob = new Blob(buffers, {type: 'application/binary'});\n",
              "      const a = document.createElement('a');\n",
              "      a.href = window.URL.createObjectURL(blob);\n",
              "      a.download = filename;\n",
              "      div.appendChild(a);\n",
              "      a.click();\n",
              "      div.remove();\n",
              "    }\n",
              "  "
            ],
            "text/plain": [
              "<IPython.core.display.Javascript object>"
            ]
          },
          "metadata": {
            "tags": []
          }
        },
        {
          "output_type": "display_data",
          "data": {
            "application/javascript": [
              "download(\"download_c92943bf-3d00-4d31-95d7-d36cf79c1b3f\", \"Mon Nov 30 19:41:48 2020.csv\", 72162)"
            ],
            "text/plain": [
              "<IPython.core.display.Javascript object>"
            ]
          },
          "metadata": {
            "tags": []
          }
        }
      ]
    },
    {
      "cell_type": "markdown",
      "metadata": {
        "id": "Lcngs_gUXQ3j"
      },
      "source": [
        "Conclusion"
      ]
    },
    {
      "cell_type": "markdown",
      "metadata": {
        "id": "uEI1aMf2i2Vg"
      },
      "source": [
        "tfa.losses.SigmoidFocalCrossEntropy(\n",
        "    from_logits: bool = False,\n",
        "    alpha: tfa.image.filters.FloatTensorLike = 0.25,\n",
        "    gamma: tfa.image.filters.FloatTensorLike = 2.0,\n",
        "    reduction: str = tf.keras.losses.Reduction.NONE,\n",
        "    name: str = 'sigmoid_focal_crossentropy'\n",
        ")"
      ]
    },
    {
      "cell_type": "code",
      "metadata": {
        "colab": {
          "base_uri": "https://localhost:8080/"
        },
        "id": "QnGuck9nXQ3j",
        "outputId": "feb97fcd-2c6d-428d-d7ce-de9ed28374a9"
      },
      "source": [
        "import tensorflow_addons as tfa\n",
        "\n",
        "fl = tfa.losses.SigmoidFocalCrossEntropy()\n",
        "loss = fl(\n",
        "  y_true = [[1.0], [1.0], [0.0]],\n",
        "  y_pred = [[0.97], [0.91], [0.03]])\n",
        "print('Loss: ', loss.numpy()) \n",
        "#  # Loss: [6.8532745e-06,\n",
        "#                                         1.9097870e-04,\n",
        "#                                         2.0559824e-05]"
      ],
      "execution_count": null,
      "outputs": [
        {
          "output_type": "stream",
          "text": [
            "Loss:  [6.8532745e-06 1.9097870e-04 2.0559824e-05]\n"
          ],
          "name": "stdout"
        }
      ]
    },
    {
      "cell_type": "code",
      "metadata": {
        "colab": {
          "base_uri": "https://localhost:8080/"
        },
        "id": "MyTuvG6Ag2U-",
        "outputId": "d06958fc-80e2-494b-f52e-33c73e7cc89e"
      },
      "source": [
        "loss = fl(\n",
        "  y_true = [[0.810, 0.36, 0.32]],\n",
        "  y_pred = [[10.0]])\n",
        "print('Loss: ', loss.numpy()) "
      ],
      "execution_count": null,
      "outputs": [
        {
          "output_type": "stream",
          "text": [
            "Loss:  [179.5846]\n"
          ],
          "name": "stdout"
        }
      ]
    },
    {
      "cell_type": "code",
      "metadata": {
        "id": "W3UsBjMShofg"
      },
      "source": [
        "FL(pt) = −(1 − pt)**γ *log(pt)"
      ],
      "execution_count": null,
      "outputs": []
    },
    {
      "cell_type": "code",
      "metadata": {
        "colab": {
          "base_uri": "https://localhost:8080/"
        },
        "id": "QCqp_PO7i4wI",
        "outputId": "b9bd325f-20cf-4832-cb7f-7c7add2f4fa6"
      },
      "source": [
        "import numpy as np\n",
        "\n",
        "-((1-0.97)**2) * (np.log(0.97))"
      ],
      "execution_count": null,
      "outputs": [
        {
          "output_type": "execute_result",
          "data": {
            "text/plain": [
              "2.7413286736237764e-05"
            ]
          },
          "metadata": {
            "tags": []
          },
          "execution_count": 10
        }
      ]
    },
    {
      "cell_type": "code",
      "metadata": {
        "colab": {
          "base_uri": "https://localhost:8080/"
        },
        "id": "ura0J7BRjKtk",
        "outputId": "f59c0889-6a4a-47a6-eac7-d1a3cb674bf0"
      },
      "source": [
        "-((1-0.97)**1) * (np.log(0.97))"
      ],
      "execution_count": null,
      "outputs": [
        {
          "output_type": "execute_result",
          "data": {
            "text/plain": [
              "0.000913776224541258"
            ]
          },
          "metadata": {
            "tags": []
          },
          "execution_count": 11
        }
      ]
    },
    {
      "cell_type": "code",
      "metadata": {
        "colab": {
          "base_uri": "https://localhost:8080/"
        },
        "id": "M15KQSJFl_Od",
        "outputId": "e54315a4-213a-4f10-e4fb-f25709e9c057"
      },
      "source": [
        "-((1-0.97)**0.25) * (np.log(0.97))"
      ],
      "execution_count": null,
      "outputs": [
        {
          "output_type": "execute_result",
          "data": {
            "text/plain": [
              "0.012676486929240286"
            ]
          },
          "metadata": {
            "tags": []
          },
          "execution_count": 13
        }
      ]
    },
    {
      "cell_type": "code",
      "metadata": {
        "id": "Fo-oao7GmBXa"
      },
      "source": [
        ""
      ],
      "execution_count": null,
      "outputs": []
    }
  ]
}